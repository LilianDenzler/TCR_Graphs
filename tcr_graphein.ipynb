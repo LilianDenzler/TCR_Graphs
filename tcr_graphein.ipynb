{
 "cells": [
  {
   "cell_type": "markdown",
   "metadata": {},
   "source": [
    "From the TCR3d Database the TCR Alpha/Beta complexes are downloaded. These are TCR alpha and beta chains renumbered by AHO scheme. \n",
    "The naming shows the chain names (e.g. 3sxa_NO_aho.pdb)\n",
    "Fist all chains are renamed as a and b."
   ]
  },
  {
   "cell_type": "code",
   "execution_count": null,
   "metadata": {},
   "outputs": [],
   "source": [
    "from Bio.PDB import PDBList, PDBIO, PDBParser\n",
    "import os\n",
    "\n",
    "pdbl = PDBList()\n",
    "\n",
    "io = PDBIO()\n",
    "parser = PDBParser()\n",
    "directory=\"/home/lilian/TCR_Graphs/TCR3d_dataset_061023/tcr_structures/ab_chain\"\n",
    "\n",
    "for file in os.listdir(directory):\n",
    "    filename = os.path.join(directory, file)\n",
    "    if filename.endswith(\".pdb\"): \n",
    "        structure = parser.get_structure('file', filename)\n",
    "        for model in structure:\n",
    "            counter=0\n",
    "            for chain in model:\n",
    "                counter+=1\n",
    "                old_name = chain.get_id()\n",
    "                if counter == 1:\n",
    "                    new_name = \"A\"\n",
    "                elif counter == 2:\n",
    "                    new_name = \"B\"\n",
    "                #print(f\"renaming chain {old_name} to {new_name}\")\n",
    "                chain.id = new_name\n",
    "                \n",
    "        io.set_structure(structure)\n",
    "        io.save(filename)"
   ]
  }
 ],
 "metadata": {
  "kernelspec": {
   "display_name": "py311-pyg-cuda118",
   "language": "python",
   "name": "python3"
  },
  "language_info": {
   "codemirror_mode": {
    "name": "ipython",
    "version": 3
   },
   "file_extension": ".py",
   "mimetype": "text/x-python",
   "name": "python",
   "nbconvert_exporter": "python",
   "pygments_lexer": "ipython3",
   "version": "3.11.4"
  }
 },
 "nbformat": 4,
 "nbformat_minor": 2
}
