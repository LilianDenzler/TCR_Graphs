{
 "cells": [
  {
   "cell_type": "markdown",
   "metadata": {},
   "source": [
    "From the TCR3d Database the TCR Alpha/Beta complexes are downloaded. These are TCR alpha and beta chains renumbered by AHO scheme. \n",
    "The naming shows the chain names (e.g. 3sxa_NO_aho.pdb)\n",
    "Fist all chains are renamed as a and b."
   ]
  },
  {
   "cell_type": "code",
   "execution_count": null,
   "metadata": {},
   "outputs": [],
   "source": [
    "from Bio.PDB import PDBList, PDBIO, PDBParser\n",
    "import os\n",
    "\n",
    "pdbl = PDBList()\n",
    "\n",
    "io = PDBIO()\n",
    "parser = PDBParser()\n",
    "directory=\"/home/lilian/TCR_Graphs/TCR3d_dataset_061023/tcr_structures/ab_chain\"\n",
    "\n",
    "for file in os.listdir(directory):\n",
    "    filename = os.path.join(directory, file)\n",
    "    if filename.endswith(\".pdb\"): \n",
    "        structure = parser.get_structure('file', filename)\n",
    "        for model in structure:\n",
    "            counter=0\n",
    "            for chain in model:\n",
    "                counter+=1\n",
    "                old_name = chain.get_id()\n",
    "                if counter == 1:\n",
    "                    new_name = \"A\"\n",
    "                elif counter == 2:\n",
    "                    new_name = \"B\"\n",
    "                #print(f\"renaming chain {old_name} to {new_name}\")\n",
    "                chain.id = new_name\n",
    "                \n",
    "        io.set_structure(structure)\n",
    "        io.save(filename)"
   ]
  },
  {
   "cell_type": "code",
   "execution_count": 3,
   "metadata": {},
   "outputs": [],
   "source": [
    "!pip install graphein -q\n",
    "!pip install \"graphein[extras]\" -q"
   ]
  },
  {
   "cell_type": "code",
   "execution_count": 4,
   "metadata": {},
   "outputs": [],
   "source": [
    "def _load_esm_model(model_name: str = \"esm1b_t33_650M_UR50S\"):\n",
    "    \"\"\"\n",
    "    Loads pre-trained FAIR ESM model from torch hub.\n",
    "    \"\"\"\n",
    "\n",
    "    return torch.hub.load(\"facebookresearch/esm\", model_name)"
   ]
  },
  {
   "cell_type": "code",
   "execution_count": 5,
   "metadata": {},
   "outputs": [],
   "source": [
    "import numpy as np\n",
    "def compute_esm_embedding(\n",
    "    sequence: str,\n",
    "    representation: str,\n",
    "    model_name: str = \"esm1b_t33_650M_UR50S\",\n",
    "    output_layer: int = 33,\n",
    ") -> np.ndarray:\n",
    "    \"\"\"\n",
    "    Computes sequence embedding using Pre-trained ESM model from FAIR\n",
    "    \"\"\"\n",
    "    model, alphabet = _load_esm_model(model_name)\n",
    "    batch_converter = alphabet.get_batch_converter()\n",
    "\n",
    "    data = [\n",
    "        (\"protein1\", sequence),\n",
    "    ]\n",
    "    batch_labels, batch_strs, batch_tokens = batch_converter(data)\n",
    "\n",
    "    # Extract per-residue representations (on CPU)\n",
    "    with torch.no_grad():\n",
    "        results = model(\n",
    "            batch_tokens, repr_layers=[output_layer], return_contacts=True\n",
    "        )\n",
    "    token_representations = results[\"representations\"][output_layer]\n",
    "\n",
    "    if representation == \"residue\":\n",
    "        return token_representations.numpy()\n",
    "\n",
    "    # Generate per-sequence representations via averaging\n",
    "    # NOTE: token 0 is always a beginning-of-sequence token, so the first residue is token 1.\n",
    "    elif representation == \"sequence\":\n",
    "        sequence_representations = []\n",
    "        for i, (_, seq) in enumerate(data):\n",
    "            sequence_representations.append(\n",
    "                token_representations[i, 1 : len(seq) + 1].mean(0)\n",
    "            )\n",
    "        return sequence_representations[0].numpy()"
   ]
  },
  {
   "cell_type": "code",
   "execution_count": 6,
   "metadata": {},
   "outputs": [
    {
     "data": {
      "text/html": [
       "<pre style=\"white-space:pre;overflow-x:auto;line-height:normal;font-family:Menlo,'DejaVu Sans Mono',consolas,'Courier New',monospace\"><span style=\"color: #7fbfbf; text-decoration-color: #7fbfbf\">[10/09/23 14:06:57] </span><span style=\"color: #800000; text-decoration-color: #800000\">WARNING </span> To use the Graphein submodule                                         <a href=\"file:///home/lilian/miniconda3/envs/py311-pyg-cuda118/lib/python3.11/site-packages/graphein/protein/features/sequence/embeddings.py\" target=\"_blank\"><span style=\"color: #7f7f7f; text-decoration-color: #7f7f7f\">embeddings.py</span></a><span style=\"color: #7f7f7f; text-decoration-color: #7f7f7f\">:</span><a href=\"file:///home/lilian/miniconda3/envs/py311-pyg-cuda118/lib/python3.11/site-packages/graphein/protein/features/sequence/embeddings.py#44\" target=\"_blank\"><span style=\"color: #7f7f7f; text-decoration-color: #7f7f7f\">44</span></a>\n",
       "<span style=\"color: #7fbfbf; text-decoration-color: #7fbfbf\">                    </span>         graphein.protein.features.sequence.embeddings, you need to install:   <span style=\"color: #7f7f7f; text-decoration-color: #7f7f7f\">                </span>\n",
       "<span style=\"color: #7fbfbf; text-decoration-color: #7fbfbf\">                    </span>         biovec                                                                <span style=\"color: #7f7f7f; text-decoration-color: #7f7f7f\">                </span>\n",
       "<span style=\"color: #7fbfbf; text-decoration-color: #7fbfbf\">                    </span>         biovec cannot be installed via conda                                  <span style=\"color: #7f7f7f; text-decoration-color: #7f7f7f\">                </span>\n",
       "<span style=\"color: #7fbfbf; text-decoration-color: #7fbfbf\">                    </span>         Alternatively, you can install graphein with the extras:              <span style=\"color: #7f7f7f; text-decoration-color: #7f7f7f\">                </span>\n",
       "<span style=\"color: #7fbfbf; text-decoration-color: #7fbfbf\">                    </span>                                                                               <span style=\"color: #7f7f7f; text-decoration-color: #7f7f7f\">                </span>\n",
       "<span style=\"color: #7fbfbf; text-decoration-color: #7fbfbf\">                    </span>         pip install graphein<span style=\"font-weight: bold\">[</span>extras<span style=\"font-weight: bold\">]</span>                                          <span style=\"color: #7f7f7f; text-decoration-color: #7f7f7f\">                </span>\n",
       "</pre>\n"
      ],
      "text/plain": [
       "\u001b[2;36m[10/09/23 14:06:57]\u001b[0m\u001b[2;36m \u001b[0m\u001b[31mWARNING \u001b[0m To use the Graphein submodule                                         \u001b]8;id=213572;file:///home/lilian/miniconda3/envs/py311-pyg-cuda118/lib/python3.11/site-packages/graphein/protein/features/sequence/embeddings.py\u001b\\\u001b[2membeddings.py\u001b[0m\u001b]8;;\u001b\\\u001b[2m:\u001b[0m\u001b]8;id=106270;file:///home/lilian/miniconda3/envs/py311-pyg-cuda118/lib/python3.11/site-packages/graphein/protein/features/sequence/embeddings.py#44\u001b\\\u001b[2m44\u001b[0m\u001b]8;;\u001b\\\n",
       "\u001b[2;36m                    \u001b[0m         graphein.protein.features.sequence.embeddings, you need to install:   \u001b[2m                \u001b[0m\n",
       "\u001b[2;36m                    \u001b[0m         biovec                                                                \u001b[2m                \u001b[0m\n",
       "\u001b[2;36m                    \u001b[0m         biovec cannot be installed via conda                                  \u001b[2m                \u001b[0m\n",
       "\u001b[2;36m                    \u001b[0m         Alternatively, you can install graphein with the extras:              \u001b[2m                \u001b[0m\n",
       "\u001b[2;36m                    \u001b[0m                                                                               \u001b[2m                \u001b[0m\n",
       "\u001b[2;36m                    \u001b[0m         pip install graphein\u001b[1m[\u001b[0mextras\u001b[1m]\u001b[0m                                          \u001b[2m                \u001b[0m\n"
      ]
     },
     "metadata": {},
     "output_type": "display_data"
    },
    {
     "data": {
      "text/html": [
       "<pre style=\"white-space:pre;overflow-x:auto;line-height:normal;font-family:Menlo,'DejaVu Sans Mono',consolas,'Courier New',monospace\"><span style=\"color: #7fbfbf; text-decoration-color: #7fbfbf\">[10/09/23 14:06:58] </span><span style=\"color: #800000; text-decoration-color: #800000\">WARNING </span> To use the Graphein submodule graphein.protein.visualisation, you  <a href=\"file:///home/lilian/miniconda3/envs/py311-pyg-cuda118/lib/python3.11/site-packages/graphein/protein/visualisation.py\" target=\"_blank\"><span style=\"color: #7f7f7f; text-decoration-color: #7f7f7f\">visualisation.py</span></a><span style=\"color: #7f7f7f; text-decoration-color: #7f7f7f\">:</span><a href=\"file:///home/lilian/miniconda3/envs/py311-pyg-cuda118/lib/python3.11/site-packages/graphein/protein/visualisation.py#35\" target=\"_blank\"><span style=\"color: #7f7f7f; text-decoration-color: #7f7f7f\">35</span></a>\n",
       "<span style=\"color: #7fbfbf; text-decoration-color: #7fbfbf\">                    </span>         need to install: pytorch3d                                         <span style=\"color: #7f7f7f; text-decoration-color: #7f7f7f\">                   </span>\n",
       "<span style=\"color: #7fbfbf; text-decoration-color: #7fbfbf\">                    </span>         To do so, use the following command: conda install -c pytorch3d    <span style=\"color: #7f7f7f; text-decoration-color: #7f7f7f\">                   </span>\n",
       "<span style=\"color: #7fbfbf; text-decoration-color: #7fbfbf\">                    </span>         pytorch3d                                                          <span style=\"color: #7f7f7f; text-decoration-color: #7f7f7f\">                   </span>\n",
       "</pre>\n"
      ],
      "text/plain": [
       "\u001b[2;36m[10/09/23 14:06:58]\u001b[0m\u001b[2;36m \u001b[0m\u001b[31mWARNING \u001b[0m To use the Graphein submodule graphein.protein.visualisation, you  \u001b]8;id=926310;file:///home/lilian/miniconda3/envs/py311-pyg-cuda118/lib/python3.11/site-packages/graphein/protein/visualisation.py\u001b\\\u001b[2mvisualisation.py\u001b[0m\u001b]8;;\u001b\\\u001b[2m:\u001b[0m\u001b]8;id=909077;file:///home/lilian/miniconda3/envs/py311-pyg-cuda118/lib/python3.11/site-packages/graphein/protein/visualisation.py#35\u001b\\\u001b[2m35\u001b[0m\u001b]8;;\u001b\\\n",
       "\u001b[2;36m                    \u001b[0m         need to install: pytorch3d                                         \u001b[2m                   \u001b[0m\n",
       "\u001b[2;36m                    \u001b[0m         To do so, use the following command: conda install -c pytorch3d    \u001b[2m                   \u001b[0m\n",
       "\u001b[2;36m                    \u001b[0m         pytorch3d                                                          \u001b[2m                   \u001b[0m\n"
      ]
     },
     "metadata": {},
     "output_type": "display_data"
    },
    {
     "data": {
      "text/html": [
       "<pre style=\"white-space:pre;overflow-x:auto;line-height:normal;font-family:Menlo,'DejaVu Sans Mono',consolas,'Courier New',monospace\"><span style=\"color: #7fbfbf; text-decoration-color: #7fbfbf\">                    </span><span style=\"color: #800000; text-decoration-color: #800000\">WARNING </span> To use the Graphein submodule graphein.protein.meshes, you need to        <a href=\"file:///home/lilian/miniconda3/envs/py311-pyg-cuda118/lib/python3.11/site-packages/graphein/protein/meshes.py\" target=\"_blank\"><span style=\"color: #7f7f7f; text-decoration-color: #7f7f7f\">meshes.py</span></a><span style=\"color: #7f7f7f; text-decoration-color: #7f7f7f\">:</span><a href=\"file:///home/lilian/miniconda3/envs/py311-pyg-cuda118/lib/python3.11/site-packages/graphein/protein/meshes.py#29\" target=\"_blank\"><span style=\"color: #7f7f7f; text-decoration-color: #7f7f7f\">29</span></a>\n",
       "<span style=\"color: #7fbfbf; text-decoration-color: #7fbfbf\">                    </span>         install: pytorch3d                                                        <span style=\"color: #7f7f7f; text-decoration-color: #7f7f7f\">            </span>\n",
       "<span style=\"color: #7fbfbf; text-decoration-color: #7fbfbf\">                    </span>         To do so, use the following command: conda install -c pytorch3d pytorch3d <span style=\"color: #7f7f7f; text-decoration-color: #7f7f7f\">            </span>\n",
       "</pre>\n"
      ],
      "text/plain": [
       "\u001b[2;36m                   \u001b[0m\u001b[2;36m \u001b[0m\u001b[31mWARNING \u001b[0m To use the Graphein submodule graphein.protein.meshes, you need to        \u001b]8;id=213798;file:///home/lilian/miniconda3/envs/py311-pyg-cuda118/lib/python3.11/site-packages/graphein/protein/meshes.py\u001b\\\u001b[2mmeshes.py\u001b[0m\u001b]8;;\u001b\\\u001b[2m:\u001b[0m\u001b]8;id=836494;file:///home/lilian/miniconda3/envs/py311-pyg-cuda118/lib/python3.11/site-packages/graphein/protein/meshes.py#29\u001b\\\u001b[2m29\u001b[0m\u001b]8;;\u001b\\\n",
       "\u001b[2;36m                    \u001b[0m         install: pytorch3d                                                        \u001b[2m            \u001b[0m\n",
       "\u001b[2;36m                    \u001b[0m         To do so, use the following command: conda install -c pytorch3d pytorch3d \u001b[2m            \u001b[0m\n"
      ]
     },
     "metadata": {},
     "output_type": "display_data"
    }
   ],
   "source": [
    "import logging\n",
    "import os\n",
    "from functools import lru_cache, partial\n",
    "from pathlib import Path\n",
    "from graphein.protein.features.sequence.utils import (\n",
    "    compute_feature_over_chains,\n",
    "    subset_by_node_feature_value)\n",
    "import networkx as nx\n",
    "\n",
    "def esm_residue_embedding(\n",
    "    G: nx.Graph,\n",
    "    model_name: str = \"esm1b_t33_650M_UR50S\",\n",
    "    output_layer: int = 33,\n",
    ") -> nx.Graph:\n",
    "    \"\"\"\n",
    "    Computes ESM residue embeddings from a protein sequence and adds them to the graph.\n",
    "    :param G: ``nx.Graph`` to add esm embedding to.\n",
    "    :type G: nx.Graph\n",
    "    :param model_name: Name of pre-trained model to use.\n",
    "    :type model_name: str\n",
    "    :param output_layer: index of output layer in pre-trained model.\n",
    "    :type output_layer: int\n",
    "    :return: ``nx.Graph`` with esm embedding feature added to nodes.\n",
    "    :rtype: nx.Graph\n",
    "    \"\"\"\n",
    "\n",
    "    for chain in G.graph[\"chain_ids\"]:\n",
    "        embedding = compute_esm_embedding(\n",
    "            G.graph[f\"sequence_{chain}\"],\n",
    "            representation=\"residue\",\n",
    "            model_name=model_name,\n",
    "            output_layer=output_layer,\n",
    "        )\n",
    "        # remove start and end tokens from per-token residue embeddings\n",
    "        embedding = embedding[0, 1:-1]\n",
    "        subgraph = subset_by_node_feature_value(G, \"chain_id\", chain)\n",
    "\n",
    "        for i, (n, d) in enumerate(subgraph.nodes(data=True)):\n",
    "            G.nodes[n][\"esm_embedding\"] = embedding[i]\n",
    "\n",
    "    return G"
   ]
  },
  {
   "cell_type": "code",
   "execution_count": 7,
   "metadata": {},
   "outputs": [],
   "source": [
    "from graphein.protein.config import ProteinGraphConfig\n",
    "from graphein.protein.edges.distance import add_aromatic_interactions, add_cation_pi_interactions, add_hydrophobic_interactions, add_ionic_interactions\n",
    "from functools import partial\n",
    "from graphein.protein.edges.distance import add_distance_threshold\n",
    "from graphein.protein.visualisation import plotly_protein_structure_graph\n",
    "from graphein.protein.features.sequence.embeddings import esm_sequence_embedding, biovec_sequence_embedding\n",
    "\n",
    "config = ProteinGraphConfig(edge_construction_functions=[add_aromatic_interactions,\n",
    "                                                         add_cation_pi_interactions,\n",
    "                                                         add_hydrophobic_interactions,\n",
    "                                                         add_ionic_interactions,\n",
    "                                                         partial(add_distance_threshold, long_interaction_threshold=5, threshold=10.)],\n",
    "                            graph_metadata_functions=[esm_sequence_embedding,esm_residue_embedding])\n",
    "#node_metadata_functions=[esm_residue_embedding]\n"
   ]
  },
  {
   "cell_type": "code",
   "execution_count": 8,
   "metadata": {},
   "outputs": [],
   "source": [
    "import torch\n",
    "from graphein.ml import ProteinGraphDataset\n",
    "import graphein.protein as gp\n",
    "\n",
    "directory=\"/home/lilian/TCR_Graphs/TCR3d_dataset_061023/tcr_structures/ab_chain\"\n",
    "pdb_list=[]\n",
    "for file in os.listdir(directory):\n",
    "    filename = os.path.join(directory, file)\n",
    "    pdb_list.append(filename)\n"
   ]
  },
  {
   "cell_type": "code",
   "execution_count": 15,
   "metadata": {},
   "outputs": [
    {
     "name": "stdout",
     "output_type": "stream",
     "text": [
      "/home/lilian/TCR_Graphs/TCR3d_dataset_061023/tcr_structures/ab_chain/2e7l_AD_aho.pdb\n"
     ]
    },
    {
     "name": "stderr",
     "output_type": "stream",
     "text": [
      "/home/lilian/miniconda3/envs/py311-pyg-cuda118/lib/python3.11/site-packages/graphein/protein/graphs.py:161: FutureWarning: The default value of regex will change from True to False in a future version.\n",
      "  df[\"node_id\"] = df[\"node_id\"].str.replace(\":$\", \"\")\n",
      "/home/lilian/miniconda3/envs/py311-pyg-cuda118/lib/python3.11/site-packages/graphein/protein/graphs.py:164: FutureWarning: The default value of regex will change from True to False in a future version.\n",
      "  df[\"node_id\"] = df[\"node_id\"].str.replace(\":$\", \"\")\n"
     ]
    },
    {
     "data": {
      "text/html": [
       "<pre style=\"white-space:pre;overflow-x:auto;line-height:normal;font-family:Menlo,'DejaVu Sans Mono',consolas,'Courier New',monospace\"><span style=\"color: #7fbfbf; text-decoration-color: #7fbfbf\">[10/09/23 14:06:20] </span><span style=\"color: #008000; text-decoration-color: #008000\">DEBUG   </span> Deprotonating protein. This removes H atoms from the pdb_df dataframe    <a href=\"file:///home/lilian/miniconda3/envs/py311-pyg-cuda118/lib/python3.11/site-packages/graphein/protein/graphs.py\" target=\"_blank\"><span style=\"color: #7f7f7f; text-decoration-color: #7f7f7f\">graphs.py</span></a><span style=\"color: #7f7f7f; text-decoration-color: #7f7f7f\">:</span><a href=\"file:///home/lilian/miniconda3/envs/py311-pyg-cuda118/lib/python3.11/site-packages/graphein/protein/graphs.py#187\" target=\"_blank\"><span style=\"color: #7f7f7f; text-decoration-color: #7f7f7f\">187</span></a>\n",
       "</pre>\n"
      ],
      "text/plain": [
       "\u001b[2;36m[10/09/23 14:06:20]\u001b[0m\u001b[2;36m \u001b[0m\u001b[32mDEBUG   \u001b[0m Deprotonating protein. This removes H atoms from the pdb_df dataframe    \u001b]8;id=389798;file:///home/lilian/miniconda3/envs/py311-pyg-cuda118/lib/python3.11/site-packages/graphein/protein/graphs.py\u001b\\\u001b[2mgraphs.py\u001b[0m\u001b]8;;\u001b\\\u001b[2m:\u001b[0m\u001b]8;id=859960;file:///home/lilian/miniconda3/envs/py311-pyg-cuda118/lib/python3.11/site-packages/graphein/protein/graphs.py#187\u001b\\\u001b[2m187\u001b[0m\u001b]8;;\u001b\\\n"
      ]
     },
     "metadata": {},
     "output_type": "display_data"
    },
    {
     "data": {
      "text/html": [
       "<pre style=\"white-space:pre;overflow-x:auto;line-height:normal;font-family:Menlo,'DejaVu Sans Mono',consolas,'Courier New',monospace\"><span style=\"color: #7fbfbf; text-decoration-color: #7fbfbf\">                    </span><span style=\"color: #008000; text-decoration-color: #008000\">DEBUG   </span> Detected <span style=\"color: #008080; text-decoration-color: #008080; font-weight: bold\">215</span> total nodes                                                 <a href=\"file:///home/lilian/miniconda3/envs/py311-pyg-cuda118/lib/python3.11/site-packages/graphein/protein/graphs.py\" target=\"_blank\"><span style=\"color: #7f7f7f; text-decoration-color: #7f7f7f\">graphs.py</span></a><span style=\"color: #7f7f7f; text-decoration-color: #7f7f7f\">:</span><a href=\"file:///home/lilian/miniconda3/envs/py311-pyg-cuda118/lib/python3.11/site-packages/graphein/protein/graphs.py#431\" target=\"_blank\"><span style=\"color: #7f7f7f; text-decoration-color: #7f7f7f\">431</span></a>\n",
       "</pre>\n"
      ],
      "text/plain": [
       "\u001b[2;36m                   \u001b[0m\u001b[2;36m \u001b[0m\u001b[32mDEBUG   \u001b[0m Detected \u001b[1;36m215\u001b[0m total nodes                                                 \u001b]8;id=893328;file:///home/lilian/miniconda3/envs/py311-pyg-cuda118/lib/python3.11/site-packages/graphein/protein/graphs.py\u001b\\\u001b[2mgraphs.py\u001b[0m\u001b]8;;\u001b\\\u001b[2m:\u001b[0m\u001b]8;id=139392;file:///home/lilian/miniconda3/envs/py311-pyg-cuda118/lib/python3.11/site-packages/graphein/protein/graphs.py#431\u001b\\\u001b[2m431\u001b[0m\u001b]8;;\u001b\\\n"
      ]
     },
     "metadata": {},
     "output_type": "display_data"
    },
    {
     "data": {
      "text/html": [
       "<pre style=\"white-space:pre;overflow-x:auto;line-height:normal;font-family:Menlo,'DejaVu Sans Mono',consolas,'Courier New',monospace\"><span style=\"color: #7fbfbf; text-decoration-color: #7fbfbf\">                    </span><span style=\"color: #008000; text-decoration-color: #008000\">DEBUG   </span> Reading meiler embeddings from:                                       <a href=\"file:///home/lilian/miniconda3/envs/py311-pyg-cuda118/lib/python3.11/site-packages/graphein/protein/features/nodes/amino_acid.py\" target=\"_blank\"><span style=\"color: #7f7f7f; text-decoration-color: #7f7f7f\">amino_acid.py</span></a><span style=\"color: #7f7f7f; text-decoration-color: #7f7f7f\">:</span><a href=\"file:///home/lilian/miniconda3/envs/py311-pyg-cuda118/lib/python3.11/site-packages/graphein/protein/features/nodes/amino_acid.py#57\" target=\"_blank\"><span style=\"color: #7f7f7f; text-decoration-color: #7f7f7f\">57</span></a>\n",
       "<span style=\"color: #7fbfbf; text-decoration-color: #7fbfbf\">                    </span>         <span style=\"color: #800080; text-decoration-color: #800080\">/home/lilian/miniconda3/envs/py311-pyg-cuda118/lib/python3.11/site-pa</span> <span style=\"color: #7f7f7f; text-decoration-color: #7f7f7f\">                </span>\n",
       "<span style=\"color: #7fbfbf; text-decoration-color: #7fbfbf\">                    </span>         <span style=\"color: #800080; text-decoration-color: #800080\">ckages/graphein/protein/features/nodes/</span><span style=\"color: #ff00ff; text-decoration-color: #ff00ff\">meiler_embeddings.csv</span>          <span style=\"color: #7f7f7f; text-decoration-color: #7f7f7f\">                </span>\n",
       "</pre>\n"
      ],
      "text/plain": [
       "\u001b[2;36m                   \u001b[0m\u001b[2;36m \u001b[0m\u001b[32mDEBUG   \u001b[0m Reading meiler embeddings from:                                       \u001b]8;id=465776;file:///home/lilian/miniconda3/envs/py311-pyg-cuda118/lib/python3.11/site-packages/graphein/protein/features/nodes/amino_acid.py\u001b\\\u001b[2mamino_acid.py\u001b[0m\u001b]8;;\u001b\\\u001b[2m:\u001b[0m\u001b]8;id=834508;file:///home/lilian/miniconda3/envs/py311-pyg-cuda118/lib/python3.11/site-packages/graphein/protein/features/nodes/amino_acid.py#57\u001b\\\u001b[2m57\u001b[0m\u001b]8;;\u001b\\\n",
       "\u001b[2;36m                    \u001b[0m         \u001b[35m/home/lilian/miniconda3/envs/py311-pyg-cuda118/lib/python3.11/site-pa\u001b[0m \u001b[2m                \u001b[0m\n",
       "\u001b[2;36m                    \u001b[0m         \u001b[35mckages/graphein/protein/features/nodes/\u001b[0m\u001b[95mmeiler_embeddings.csv\u001b[0m          \u001b[2m                \u001b[0m\n"
      ]
     },
     "metadata": {},
     "output_type": "display_data"
    },
    {
     "name": "stderr",
     "output_type": "stream",
     "text": [
      "/home/lilian/miniconda3/envs/py311-pyg-cuda118/lib/python3.11/site-packages/graphein/protein/edges/distance.py:1212: FutureWarning: The default value of numeric_only in DataFrameGroupBy.mean is deprecated. In a future version, numeric_only will default to False. Either specify numeric_only or select only columns which should be valid for the function.\n",
      "  .mean()[[\"x_coord\", \"y_coord\", \"z_coord\"]]\n",
      "/home/lilian/miniconda3/envs/py311-pyg-cuda118/lib/python3.11/site-packages/graphein/protein/edges/distance.py:1212: FutureWarning: The default value of numeric_only in DataFrameGroupBy.mean is deprecated. In a future version, numeric_only will default to False. Either specify numeric_only or select only columns which should be valid for the function.\n",
      "  .mean()[[\"x_coord\", \"y_coord\", \"z_coord\"]]\n",
      "/home/lilian/miniconda3/envs/py311-pyg-cuda118/lib/python3.11/site-packages/graphein/protein/edges/distance.py:1212: FutureWarning: The default value of numeric_only in DataFrameGroupBy.mean is deprecated. In a future version, numeric_only will default to False. Either specify numeric_only or select only columns which should be valid for the function.\n",
      "  .mean()[[\"x_coord\", \"y_coord\", \"z_coord\"]]\n",
      "/home/lilian/miniconda3/envs/py311-pyg-cuda118/lib/python3.11/site-packages/graphein/protein/edges/distance.py:1212: FutureWarning: The default value of numeric_only in DataFrameGroupBy.mean is deprecated. In a future version, numeric_only will default to False. Either specify numeric_only or select only columns which should be valid for the function.\n",
      "  .mean()[[\"x_coord\", \"y_coord\", \"z_coord\"]]\n"
     ]
    },
    {
     "data": {
      "text/html": [
       "<pre style=\"white-space:pre;overflow-x:auto;line-height:normal;font-family:Menlo,'DejaVu Sans Mono',consolas,'Courier New',monospace\"><span style=\"color: #7fbfbf; text-decoration-color: #7fbfbf\">                    </span><span style=\"color: #000080; text-decoration-color: #000080\">INFO    </span> Found: <span style=\"color: #008080; text-decoration-color: #008080; font-weight: bold\">52</span> aromatic-aromatic interactions                               <a href=\"file:///home/lilian/miniconda3/envs/py311-pyg-cuda118/lib/python3.11/site-packages/graphein/protein/edges/distance.py\" target=\"_blank\"><span style=\"color: #7f7f7f; text-decoration-color: #7f7f7f\">distance.py</span></a><span style=\"color: #7f7f7f; text-decoration-color: #7f7f7f\">:</span><a href=\"file:///home/lilian/miniconda3/envs/py311-pyg-cuda118/lib/python3.11/site-packages/graphein/protein/edges/distance.py#466\" target=\"_blank\"><span style=\"color: #7f7f7f; text-decoration-color: #7f7f7f\">466</span></a>\n",
       "</pre>\n"
      ],
      "text/plain": [
       "\u001b[2;36m                   \u001b[0m\u001b[2;36m \u001b[0m\u001b[34mINFO    \u001b[0m Found: \u001b[1;36m52\u001b[0m aromatic-aromatic interactions                               \u001b]8;id=524365;file:///home/lilian/miniconda3/envs/py311-pyg-cuda118/lib/python3.11/site-packages/graphein/protein/edges/distance.py\u001b\\\u001b[2mdistance.py\u001b[0m\u001b]8;;\u001b\\\u001b[2m:\u001b[0m\u001b]8;id=843300;file:///home/lilian/miniconda3/envs/py311-pyg-cuda118/lib/python3.11/site-packages/graphein/protein/edges/distance.py#466\u001b\\\u001b[2m466\u001b[0m\u001b]8;;\u001b\\\n"
      ]
     },
     "metadata": {},
     "output_type": "display_data"
    },
    {
     "data": {
      "text/html": [
       "<pre style=\"white-space:pre;overflow-x:auto;line-height:normal;font-family:Menlo,'DejaVu Sans Mono',consolas,'Courier New',monospace\"><span style=\"color: #7fbfbf; text-decoration-color: #7fbfbf\">                    </span><span style=\"color: #000080; text-decoration-color: #000080\">INFO    </span> Found <span style=\"color: #008080; text-decoration-color: #008080; font-weight: bold\">443</span> hydrophobic interactions.                                   <a href=\"file:///home/lilian/miniconda3/envs/py311-pyg-cuda118/lib/python3.11/site-packages/graphein/protein/edges/distance.py\" target=\"_blank\"><span style=\"color: #7f7f7f; text-decoration-color: #7f7f7f\">distance.py</span></a><span style=\"color: #7f7f7f; text-decoration-color: #7f7f7f\">:</span><a href=\"file:///home/lilian/miniconda3/envs/py311-pyg-cuda118/lib/python3.11/site-packages/graphein/protein/edges/distance.py#1343\" target=\"_blank\"><span style=\"color: #7f7f7f; text-decoration-color: #7f7f7f\">1343</span></a>\n",
       "</pre>\n"
      ],
      "text/plain": [
       "\u001b[2;36m                   \u001b[0m\u001b[2;36m \u001b[0m\u001b[34mINFO    \u001b[0m Found \u001b[1;36m443\u001b[0m hydrophobic interactions.                                   \u001b]8;id=39586;file:///home/lilian/miniconda3/envs/py311-pyg-cuda118/lib/python3.11/site-packages/graphein/protein/edges/distance.py\u001b\\\u001b[2mdistance.py\u001b[0m\u001b]8;;\u001b\\\u001b[2m:\u001b[0m\u001b]8;id=351642;file:///home/lilian/miniconda3/envs/py311-pyg-cuda118/lib/python3.11/site-packages/graphein/protein/edges/distance.py#1343\u001b\\\u001b[2m1343\u001b[0m\u001b]8;;\u001b\\\n"
      ]
     },
     "metadata": {},
     "output_type": "display_data"
    },
    {
     "data": {
      "text/html": [
       "<pre style=\"white-space:pre;overflow-x:auto;line-height:normal;font-family:Menlo,'DejaVu Sans Mono',consolas,'Courier New',monospace\"><span style=\"color: #7fbfbf; text-decoration-color: #7fbfbf\">                    </span><span style=\"color: #000080; text-decoration-color: #000080\">INFO    </span> Found <span style=\"color: #008080; text-decoration-color: #008080; font-weight: bold\">1629</span> ionic interactions.                                        <a href=\"file:///home/lilian/miniconda3/envs/py311-pyg-cuda118/lib/python3.11/site-packages/graphein/protein/edges/distance.py\" target=\"_blank\"><span style=\"color: #7f7f7f; text-decoration-color: #7f7f7f\">distance.py</span></a><span style=\"color: #7f7f7f; text-decoration-color: #7f7f7f\">:</span><a href=\"file:///home/lilian/miniconda3/envs/py311-pyg-cuda118/lib/python3.11/site-packages/graphein/protein/edges/distance.py#1343\" target=\"_blank\"><span style=\"color: #7f7f7f; text-decoration-color: #7f7f7f\">1343</span></a>\n",
       "</pre>\n"
      ],
      "text/plain": [
       "\u001b[2;36m                   \u001b[0m\u001b[2;36m \u001b[0m\u001b[34mINFO    \u001b[0m Found \u001b[1;36m1629\u001b[0m ionic interactions.                                        \u001b]8;id=542218;file:///home/lilian/miniconda3/envs/py311-pyg-cuda118/lib/python3.11/site-packages/graphein/protein/edges/distance.py\u001b\\\u001b[2mdistance.py\u001b[0m\u001b]8;;\u001b\\\u001b[2m:\u001b[0m\u001b]8;id=177255;file:///home/lilian/miniconda3/envs/py311-pyg-cuda118/lib/python3.11/site-packages/graphein/protein/edges/distance.py#1343\u001b\\\u001b[2m1343\u001b[0m\u001b]8;;\u001b\\\n"
      ]
     },
     "metadata": {},
     "output_type": "display_data"
    },
    {
     "data": {
      "text/html": [
       "<pre style=\"white-space:pre;overflow-x:auto;line-height:normal;font-family:Menlo,'DejaVu Sans Mono',consolas,'Courier New',monospace\"><span style=\"color: #7fbfbf; text-decoration-color: #7fbfbf\">                    </span><span style=\"color: #000080; text-decoration-color: #000080\">INFO    </span> Found: <span style=\"color: #008080; text-decoration-color: #008080; font-weight: bold\">4101</span> distance edges                                             <a href=\"file:///home/lilian/miniconda3/envs/py311-pyg-cuda118/lib/python3.11/site-packages/graphein/protein/edges/distance.py\" target=\"_blank\"><span style=\"color: #7f7f7f; text-decoration-color: #7f7f7f\">distance.py</span></a><span style=\"color: #7f7f7f; text-decoration-color: #7f7f7f\">:</span><a href=\"file:///home/lilian/miniconda3/envs/py311-pyg-cuda118/lib/python3.11/site-packages/graphein/protein/edges/distance.py#963\" target=\"_blank\"><span style=\"color: #7f7f7f; text-decoration-color: #7f7f7f\">963</span></a>\n",
       "</pre>\n"
      ],
      "text/plain": [
       "\u001b[2;36m                   \u001b[0m\u001b[2;36m \u001b[0m\u001b[34mINFO    \u001b[0m Found: \u001b[1;36m4101\u001b[0m distance edges                                             \u001b]8;id=859618;file:///home/lilian/miniconda3/envs/py311-pyg-cuda118/lib/python3.11/site-packages/graphein/protein/edges/distance.py\u001b\\\u001b[2mdistance.py\u001b[0m\u001b]8;;\u001b\\\u001b[2m:\u001b[0m\u001b]8;id=510845;file:///home/lilian/miniconda3/envs/py311-pyg-cuda118/lib/python3.11/site-packages/graphein/protein/edges/distance.py#963\u001b\\\u001b[2m963\u001b[0m\u001b]8;;\u001b\\\n"
      ]
     },
     "metadata": {},
     "output_type": "display_data"
    },
    {
     "data": {
      "text/html": [
       "<pre style=\"white-space:pre;overflow-x:auto;line-height:normal;font-family:Menlo,'DejaVu Sans Mono',consolas,'Courier New',monospace\"><span style=\"color: #7fbfbf; text-decoration-color: #7fbfbf\">                    </span><span style=\"color: #000080; text-decoration-color: #000080\">INFO    </span> Added <span style=\"color: #008080; text-decoration-color: #008080; font-weight: bold\">2752</span> distance edges. <span style=\"font-weight: bold\">(</span><span style=\"color: #008080; text-decoration-color: #008080; font-weight: bold\">1349</span>            removed by LIN<span style=\"font-weight: bold\">)</span>            <a href=\"file:///home/lilian/miniconda3/envs/py311-pyg-cuda118/lib/python3.11/site-packages/graphein/protein/edges/distance.py\" target=\"_blank\"><span style=\"color: #7f7f7f; text-decoration-color: #7f7f7f\">distance.py</span></a><span style=\"color: #7f7f7f; text-decoration-color: #7f7f7f\">:</span><a href=\"file:///home/lilian/miniconda3/envs/py311-pyg-cuda118/lib/python3.11/site-packages/graphein/protein/edges/distance.py#982\" target=\"_blank\"><span style=\"color: #7f7f7f; text-decoration-color: #7f7f7f\">982</span></a>\n",
       "</pre>\n"
      ],
      "text/plain": [
       "\u001b[2;36m                   \u001b[0m\u001b[2;36m \u001b[0m\u001b[34mINFO    \u001b[0m Added \u001b[1;36m2752\u001b[0m distance edges. \u001b[1m(\u001b[0m\u001b[1;36m1349\u001b[0m            removed by LIN\u001b[1m)\u001b[0m            \u001b]8;id=15557;file:///home/lilian/miniconda3/envs/py311-pyg-cuda118/lib/python3.11/site-packages/graphein/protein/edges/distance.py\u001b\\\u001b[2mdistance.py\u001b[0m\u001b]8;;\u001b\\\u001b[2m:\u001b[0m\u001b]8;id=466608;file:///home/lilian/miniconda3/envs/py311-pyg-cuda118/lib/python3.11/site-packages/graphein/protein/edges/distance.py#982\u001b\\\u001b[2m982\u001b[0m\u001b]8;;\u001b\\\n"
      ]
     },
     "metadata": {},
     "output_type": "display_data"
    },
    {
     "name": "stderr",
     "output_type": "stream",
     "text": [
      "Using cache found in /home/lilian/.cache/torch/hub/facebookresearch_esm_main\n"
     ]
    },
    {
     "name": "stdout",
     "output_type": "stream",
     "text": [
      "error\n",
      "/home/lilian/TCR_Graphs/TCR3d_dataset_061023/tcr_structures/ab_chain/4pj5_GH_aho.pdb\n"
     ]
    },
    {
     "name": "stderr",
     "output_type": "stream",
     "text": [
      "/home/lilian/miniconda3/envs/py311-pyg-cuda118/lib/python3.11/site-packages/graphein/protein/graphs.py:161: FutureWarning: The default value of regex will change from True to False in a future version.\n",
      "  df[\"node_id\"] = df[\"node_id\"].str.replace(\":$\", \"\")\n",
      "/home/lilian/miniconda3/envs/py311-pyg-cuda118/lib/python3.11/site-packages/graphein/protein/graphs.py:164: FutureWarning: The default value of regex will change from True to False in a future version.\n",
      "  df[\"node_id\"] = df[\"node_id\"].str.replace(\":$\", \"\")\n"
     ]
    },
    {
     "data": {
      "text/html": [
       "<pre style=\"white-space:pre;overflow-x:auto;line-height:normal;font-family:Menlo,'DejaVu Sans Mono',consolas,'Courier New',monospace\"><span style=\"color: #7fbfbf; text-decoration-color: #7fbfbf\">[10/09/23 14:06:25] </span><span style=\"color: #008000; text-decoration-color: #008000\">DEBUG   </span> Deprotonating protein. This removes H atoms from the pdb_df dataframe    <a href=\"file:///home/lilian/miniconda3/envs/py311-pyg-cuda118/lib/python3.11/site-packages/graphein/protein/graphs.py\" target=\"_blank\"><span style=\"color: #7f7f7f; text-decoration-color: #7f7f7f\">graphs.py</span></a><span style=\"color: #7f7f7f; text-decoration-color: #7f7f7f\">:</span><a href=\"file:///home/lilian/miniconda3/envs/py311-pyg-cuda118/lib/python3.11/site-packages/graphein/protein/graphs.py#187\" target=\"_blank\"><span style=\"color: #7f7f7f; text-decoration-color: #7f7f7f\">187</span></a>\n",
       "</pre>\n"
      ],
      "text/plain": [
       "\u001b[2;36m[10/09/23 14:06:25]\u001b[0m\u001b[2;36m \u001b[0m\u001b[32mDEBUG   \u001b[0m Deprotonating protein. This removes H atoms from the pdb_df dataframe    \u001b]8;id=682799;file:///home/lilian/miniconda3/envs/py311-pyg-cuda118/lib/python3.11/site-packages/graphein/protein/graphs.py\u001b\\\u001b[2mgraphs.py\u001b[0m\u001b]8;;\u001b\\\u001b[2m:\u001b[0m\u001b]8;id=907166;file:///home/lilian/miniconda3/envs/py311-pyg-cuda118/lib/python3.11/site-packages/graphein/protein/graphs.py#187\u001b\\\u001b[2m187\u001b[0m\u001b]8;;\u001b\\\n"
      ]
     },
     "metadata": {},
     "output_type": "display_data"
    },
    {
     "data": {
      "text/html": [
       "<pre style=\"white-space:pre;overflow-x:auto;line-height:normal;font-family:Menlo,'DejaVu Sans Mono',consolas,'Courier New',monospace\"><span style=\"color: #7fbfbf; text-decoration-color: #7fbfbf\">                    </span><span style=\"color: #008000; text-decoration-color: #008000\">DEBUG   </span> Detected <span style=\"color: #008080; text-decoration-color: #008080; font-weight: bold\">218</span> total nodes                                                 <a href=\"file:///home/lilian/miniconda3/envs/py311-pyg-cuda118/lib/python3.11/site-packages/graphein/protein/graphs.py\" target=\"_blank\"><span style=\"color: #7f7f7f; text-decoration-color: #7f7f7f\">graphs.py</span></a><span style=\"color: #7f7f7f; text-decoration-color: #7f7f7f\">:</span><a href=\"file:///home/lilian/miniconda3/envs/py311-pyg-cuda118/lib/python3.11/site-packages/graphein/protein/graphs.py#431\" target=\"_blank\"><span style=\"color: #7f7f7f; text-decoration-color: #7f7f7f\">431</span></a>\n",
       "</pre>\n"
      ],
      "text/plain": [
       "\u001b[2;36m                   \u001b[0m\u001b[2;36m \u001b[0m\u001b[32mDEBUG   \u001b[0m Detected \u001b[1;36m218\u001b[0m total nodes                                                 \u001b]8;id=627433;file:///home/lilian/miniconda3/envs/py311-pyg-cuda118/lib/python3.11/site-packages/graphein/protein/graphs.py\u001b\\\u001b[2mgraphs.py\u001b[0m\u001b]8;;\u001b\\\u001b[2m:\u001b[0m\u001b]8;id=356218;file:///home/lilian/miniconda3/envs/py311-pyg-cuda118/lib/python3.11/site-packages/graphein/protein/graphs.py#431\u001b\\\u001b[2m431\u001b[0m\u001b]8;;\u001b\\\n"
      ]
     },
     "metadata": {},
     "output_type": "display_data"
    },
    {
     "name": "stderr",
     "output_type": "stream",
     "text": [
      "/home/lilian/miniconda3/envs/py311-pyg-cuda118/lib/python3.11/site-packages/graphein/protein/edges/distance.py:1212: FutureWarning: The default value of numeric_only in DataFrameGroupBy.mean is deprecated. In a future version, numeric_only will default to False. Either specify numeric_only or select only columns which should be valid for the function.\n",
      "  .mean()[[\"x_coord\", \"y_coord\", \"z_coord\"]]\n",
      "/home/lilian/miniconda3/envs/py311-pyg-cuda118/lib/python3.11/site-packages/graphein/protein/edges/distance.py:1212: FutureWarning: The default value of numeric_only in DataFrameGroupBy.mean is deprecated. In a future version, numeric_only will default to False. Either specify numeric_only or select only columns which should be valid for the function.\n",
      "  .mean()[[\"x_coord\", \"y_coord\", \"z_coord\"]]\n",
      "/home/lilian/miniconda3/envs/py311-pyg-cuda118/lib/python3.11/site-packages/graphein/protein/edges/distance.py:1212: FutureWarning: The default value of numeric_only in DataFrameGroupBy.mean is deprecated. In a future version, numeric_only will default to False. Either specify numeric_only or select only columns which should be valid for the function.\n",
      "  .mean()[[\"x_coord\", \"y_coord\", \"z_coord\"]]\n",
      "/home/lilian/miniconda3/envs/py311-pyg-cuda118/lib/python3.11/site-packages/graphein/protein/edges/distance.py:1212: FutureWarning: The default value of numeric_only in DataFrameGroupBy.mean is deprecated. In a future version, numeric_only will default to False. Either specify numeric_only or select only columns which should be valid for the function.\n",
      "  .mean()[[\"x_coord\", \"y_coord\", \"z_coord\"]]\n"
     ]
    },
    {
     "data": {
      "text/html": [
       "<pre style=\"white-space:pre;overflow-x:auto;line-height:normal;font-family:Menlo,'DejaVu Sans Mono',consolas,'Courier New',monospace\"><span style=\"color: #7fbfbf; text-decoration-color: #7fbfbf\">                    </span><span style=\"color: #000080; text-decoration-color: #000080\">INFO    </span> Found: <span style=\"color: #008080; text-decoration-color: #008080; font-weight: bold\">40</span> aromatic-aromatic interactions                               <a href=\"file:///home/lilian/miniconda3/envs/py311-pyg-cuda118/lib/python3.11/site-packages/graphein/protein/edges/distance.py\" target=\"_blank\"><span style=\"color: #7f7f7f; text-decoration-color: #7f7f7f\">distance.py</span></a><span style=\"color: #7f7f7f; text-decoration-color: #7f7f7f\">:</span><a href=\"file:///home/lilian/miniconda3/envs/py311-pyg-cuda118/lib/python3.11/site-packages/graphein/protein/edges/distance.py#466\" target=\"_blank\"><span style=\"color: #7f7f7f; text-decoration-color: #7f7f7f\">466</span></a>\n",
       "</pre>\n"
      ],
      "text/plain": [
       "\u001b[2;36m                   \u001b[0m\u001b[2;36m \u001b[0m\u001b[34mINFO    \u001b[0m Found: \u001b[1;36m40\u001b[0m aromatic-aromatic interactions                               \u001b]8;id=756478;file:///home/lilian/miniconda3/envs/py311-pyg-cuda118/lib/python3.11/site-packages/graphein/protein/edges/distance.py\u001b\\\u001b[2mdistance.py\u001b[0m\u001b]8;;\u001b\\\u001b[2m:\u001b[0m\u001b]8;id=474156;file:///home/lilian/miniconda3/envs/py311-pyg-cuda118/lib/python3.11/site-packages/graphein/protein/edges/distance.py#466\u001b\\\u001b[2m466\u001b[0m\u001b]8;;\u001b\\\n"
      ]
     },
     "metadata": {},
     "output_type": "display_data"
    },
    {
     "data": {
      "text/html": [
       "<pre style=\"white-space:pre;overflow-x:auto;line-height:normal;font-family:Menlo,'DejaVu Sans Mono',consolas,'Courier New',monospace\"><span style=\"color: #7fbfbf; text-decoration-color: #7fbfbf\">                    </span><span style=\"color: #000080; text-decoration-color: #000080\">INFO    </span> Found <span style=\"color: #008080; text-decoration-color: #008080; font-weight: bold\">420</span> hydrophobic interactions.                                   <a href=\"file:///home/lilian/miniconda3/envs/py311-pyg-cuda118/lib/python3.11/site-packages/graphein/protein/edges/distance.py\" target=\"_blank\"><span style=\"color: #7f7f7f; text-decoration-color: #7f7f7f\">distance.py</span></a><span style=\"color: #7f7f7f; text-decoration-color: #7f7f7f\">:</span><a href=\"file:///home/lilian/miniconda3/envs/py311-pyg-cuda118/lib/python3.11/site-packages/graphein/protein/edges/distance.py#1343\" target=\"_blank\"><span style=\"color: #7f7f7f; text-decoration-color: #7f7f7f\">1343</span></a>\n",
       "</pre>\n"
      ],
      "text/plain": [
       "\u001b[2;36m                   \u001b[0m\u001b[2;36m \u001b[0m\u001b[34mINFO    \u001b[0m Found \u001b[1;36m420\u001b[0m hydrophobic interactions.                                   \u001b]8;id=836646;file:///home/lilian/miniconda3/envs/py311-pyg-cuda118/lib/python3.11/site-packages/graphein/protein/edges/distance.py\u001b\\\u001b[2mdistance.py\u001b[0m\u001b]8;;\u001b\\\u001b[2m:\u001b[0m\u001b]8;id=84778;file:///home/lilian/miniconda3/envs/py311-pyg-cuda118/lib/python3.11/site-packages/graphein/protein/edges/distance.py#1343\u001b\\\u001b[2m1343\u001b[0m\u001b]8;;\u001b\\\n"
      ]
     },
     "metadata": {},
     "output_type": "display_data"
    },
    {
     "data": {
      "text/html": [
       "<pre style=\"white-space:pre;overflow-x:auto;line-height:normal;font-family:Menlo,'DejaVu Sans Mono',consolas,'Courier New',monospace\"><span style=\"color: #7fbfbf; text-decoration-color: #7fbfbf\">                    </span><span style=\"color: #000080; text-decoration-color: #000080\">INFO    </span> Found <span style=\"color: #008080; text-decoration-color: #008080; font-weight: bold\">1640</span> ionic interactions.                                        <a href=\"file:///home/lilian/miniconda3/envs/py311-pyg-cuda118/lib/python3.11/site-packages/graphein/protein/edges/distance.py\" target=\"_blank\"><span style=\"color: #7f7f7f; text-decoration-color: #7f7f7f\">distance.py</span></a><span style=\"color: #7f7f7f; text-decoration-color: #7f7f7f\">:</span><a href=\"file:///home/lilian/miniconda3/envs/py311-pyg-cuda118/lib/python3.11/site-packages/graphein/protein/edges/distance.py#1343\" target=\"_blank\"><span style=\"color: #7f7f7f; text-decoration-color: #7f7f7f\">1343</span></a>\n",
       "</pre>\n"
      ],
      "text/plain": [
       "\u001b[2;36m                   \u001b[0m\u001b[2;36m \u001b[0m\u001b[34mINFO    \u001b[0m Found \u001b[1;36m1640\u001b[0m ionic interactions.                                        \u001b]8;id=867470;file:///home/lilian/miniconda3/envs/py311-pyg-cuda118/lib/python3.11/site-packages/graphein/protein/edges/distance.py\u001b\\\u001b[2mdistance.py\u001b[0m\u001b]8;;\u001b\\\u001b[2m:\u001b[0m\u001b]8;id=161174;file:///home/lilian/miniconda3/envs/py311-pyg-cuda118/lib/python3.11/site-packages/graphein/protein/edges/distance.py#1343\u001b\\\u001b[2m1343\u001b[0m\u001b]8;;\u001b\\\n"
      ]
     },
     "metadata": {},
     "output_type": "display_data"
    },
    {
     "data": {
      "text/html": [
       "<pre style=\"white-space:pre;overflow-x:auto;line-height:normal;font-family:Menlo,'DejaVu Sans Mono',consolas,'Courier New',monospace\"><span style=\"color: #7fbfbf; text-decoration-color: #7fbfbf\">                    </span><span style=\"color: #000080; text-decoration-color: #000080\">INFO    </span> Found: <span style=\"color: #008080; text-decoration-color: #008080; font-weight: bold\">4164</span> distance edges                                             <a href=\"file:///home/lilian/miniconda3/envs/py311-pyg-cuda118/lib/python3.11/site-packages/graphein/protein/edges/distance.py\" target=\"_blank\"><span style=\"color: #7f7f7f; text-decoration-color: #7f7f7f\">distance.py</span></a><span style=\"color: #7f7f7f; text-decoration-color: #7f7f7f\">:</span><a href=\"file:///home/lilian/miniconda3/envs/py311-pyg-cuda118/lib/python3.11/site-packages/graphein/protein/edges/distance.py#963\" target=\"_blank\"><span style=\"color: #7f7f7f; text-decoration-color: #7f7f7f\">963</span></a>\n",
       "</pre>\n"
      ],
      "text/plain": [
       "\u001b[2;36m                   \u001b[0m\u001b[2;36m \u001b[0m\u001b[34mINFO    \u001b[0m Found: \u001b[1;36m4164\u001b[0m distance edges                                             \u001b]8;id=597285;file:///home/lilian/miniconda3/envs/py311-pyg-cuda118/lib/python3.11/site-packages/graphein/protein/edges/distance.py\u001b\\\u001b[2mdistance.py\u001b[0m\u001b]8;;\u001b\\\u001b[2m:\u001b[0m\u001b]8;id=544779;file:///home/lilian/miniconda3/envs/py311-pyg-cuda118/lib/python3.11/site-packages/graphein/protein/edges/distance.py#963\u001b\\\u001b[2m963\u001b[0m\u001b]8;;\u001b\\\n"
      ]
     },
     "metadata": {},
     "output_type": "display_data"
    },
    {
     "name": "stdout",
     "output_type": "stream",
     "text": [
      "error\n",
      "/home/lilian/TCR_Graphs/TCR3d_dataset_061023/tcr_structures/ab_chain/5c0c_IJ_aho.pdb\n"
     ]
    },
    {
     "name": "stderr",
     "output_type": "stream",
     "text": [
      "/home/lilian/miniconda3/envs/py311-pyg-cuda118/lib/python3.11/site-packages/graphein/protein/graphs.py:161: FutureWarning: The default value of regex will change from True to False in a future version.\n",
      "  df[\"node_id\"] = df[\"node_id\"].str.replace(\":$\", \"\")\n",
      "/home/lilian/miniconda3/envs/py311-pyg-cuda118/lib/python3.11/site-packages/graphein/protein/graphs.py:164: FutureWarning: The default value of regex will change from True to False in a future version.\n",
      "  df[\"node_id\"] = df[\"node_id\"].str.replace(\":$\", \"\")\n"
     ]
    },
    {
     "data": {
      "text/html": [
       "<pre style=\"white-space:pre;overflow-x:auto;line-height:normal;font-family:Menlo,'DejaVu Sans Mono',consolas,'Courier New',monospace\"><span style=\"color: #7fbfbf; text-decoration-color: #7fbfbf\">                    </span><span style=\"color: #008000; text-decoration-color: #008000\">DEBUG   </span> Deprotonating protein. This removes H atoms from the pdb_df dataframe    <a href=\"file:///home/lilian/miniconda3/envs/py311-pyg-cuda118/lib/python3.11/site-packages/graphein/protein/graphs.py\" target=\"_blank\"><span style=\"color: #7f7f7f; text-decoration-color: #7f7f7f\">graphs.py</span></a><span style=\"color: #7f7f7f; text-decoration-color: #7f7f7f\">:</span><a href=\"file:///home/lilian/miniconda3/envs/py311-pyg-cuda118/lib/python3.11/site-packages/graphein/protein/graphs.py#187\" target=\"_blank\"><span style=\"color: #7f7f7f; text-decoration-color: #7f7f7f\">187</span></a>\n",
       "</pre>\n"
      ],
      "text/plain": [
       "\u001b[2;36m                   \u001b[0m\u001b[2;36m \u001b[0m\u001b[32mDEBUG   \u001b[0m Deprotonating protein. This removes H atoms from the pdb_df dataframe    \u001b]8;id=982330;file:///home/lilian/miniconda3/envs/py311-pyg-cuda118/lib/python3.11/site-packages/graphein/protein/graphs.py\u001b\\\u001b[2mgraphs.py\u001b[0m\u001b]8;;\u001b\\\u001b[2m:\u001b[0m\u001b]8;id=267334;file:///home/lilian/miniconda3/envs/py311-pyg-cuda118/lib/python3.11/site-packages/graphein/protein/graphs.py#187\u001b\\\u001b[2m187\u001b[0m\u001b]8;;\u001b\\\n"
      ]
     },
     "metadata": {},
     "output_type": "display_data"
    },
    {
     "data": {
      "text/html": [
       "<pre style=\"white-space:pre;overflow-x:auto;line-height:normal;font-family:Menlo,'DejaVu Sans Mono',consolas,'Courier New',monospace\"><span style=\"color: #7fbfbf; text-decoration-color: #7fbfbf\">                    </span><span style=\"color: #008000; text-decoration-color: #008000\">DEBUG   </span> Detected <span style=\"color: #008080; text-decoration-color: #008080; font-weight: bold\">220</span> total nodes                                                 <a href=\"file:///home/lilian/miniconda3/envs/py311-pyg-cuda118/lib/python3.11/site-packages/graphein/protein/graphs.py\" target=\"_blank\"><span style=\"color: #7f7f7f; text-decoration-color: #7f7f7f\">graphs.py</span></a><span style=\"color: #7f7f7f; text-decoration-color: #7f7f7f\">:</span><a href=\"file:///home/lilian/miniconda3/envs/py311-pyg-cuda118/lib/python3.11/site-packages/graphein/protein/graphs.py#431\" target=\"_blank\"><span style=\"color: #7f7f7f; text-decoration-color: #7f7f7f\">431</span></a>\n",
       "</pre>\n"
      ],
      "text/plain": [
       "\u001b[2;36m                   \u001b[0m\u001b[2;36m \u001b[0m\u001b[32mDEBUG   \u001b[0m Detected \u001b[1;36m220\u001b[0m total nodes                                                 \u001b]8;id=478208;file:///home/lilian/miniconda3/envs/py311-pyg-cuda118/lib/python3.11/site-packages/graphein/protein/graphs.py\u001b\\\u001b[2mgraphs.py\u001b[0m\u001b]8;;\u001b\\\u001b[2m:\u001b[0m\u001b]8;id=306761;file:///home/lilian/miniconda3/envs/py311-pyg-cuda118/lib/python3.11/site-packages/graphein/protein/graphs.py#431\u001b\\\u001b[2m431\u001b[0m\u001b]8;;\u001b\\\n"
      ]
     },
     "metadata": {},
     "output_type": "display_data"
    },
    {
     "name": "stderr",
     "output_type": "stream",
     "text": [
      "/home/lilian/miniconda3/envs/py311-pyg-cuda118/lib/python3.11/site-packages/graphein/protein/edges/distance.py:1212: FutureWarning: The default value of numeric_only in DataFrameGroupBy.mean is deprecated. In a future version, numeric_only will default to False. Either specify numeric_only or select only columns which should be valid for the function.\n",
      "  .mean()[[\"x_coord\", \"y_coord\", \"z_coord\"]]\n",
      "/home/lilian/miniconda3/envs/py311-pyg-cuda118/lib/python3.11/site-packages/graphein/protein/edges/distance.py:1212: FutureWarning: The default value of numeric_only in DataFrameGroupBy.mean is deprecated. In a future version, numeric_only will default to False. Either specify numeric_only or select only columns which should be valid for the function.\n",
      "  .mean()[[\"x_coord\", \"y_coord\", \"z_coord\"]]\n",
      "/home/lilian/miniconda3/envs/py311-pyg-cuda118/lib/python3.11/site-packages/graphein/protein/edges/distance.py:1212: FutureWarning: The default value of numeric_only in DataFrameGroupBy.mean is deprecated. In a future version, numeric_only will default to False. Either specify numeric_only or select only columns which should be valid for the function.\n",
      "  .mean()[[\"x_coord\", \"y_coord\", \"z_coord\"]]\n",
      "/home/lilian/miniconda3/envs/py311-pyg-cuda118/lib/python3.11/site-packages/graphein/protein/edges/distance.py:1212: FutureWarning: The default value of numeric_only in DataFrameGroupBy.mean is deprecated. In a future version, numeric_only will default to False. Either specify numeric_only or select only columns which should be valid for the function.\n",
      "  .mean()[[\"x_coord\", \"y_coord\", \"z_coord\"]]\n"
     ]
    },
    {
     "data": {
      "text/html": [
       "<pre style=\"white-space:pre;overflow-x:auto;line-height:normal;font-family:Menlo,'DejaVu Sans Mono',consolas,'Courier New',monospace\"><span style=\"color: #7fbfbf; text-decoration-color: #7fbfbf\">                    </span><span style=\"color: #000080; text-decoration-color: #000080\">INFO    </span> Found: <span style=\"color: #008080; text-decoration-color: #008080; font-weight: bold\">38</span> aromatic-aromatic interactions                               <a href=\"file:///home/lilian/miniconda3/envs/py311-pyg-cuda118/lib/python3.11/site-packages/graphein/protein/edges/distance.py\" target=\"_blank\"><span style=\"color: #7f7f7f; text-decoration-color: #7f7f7f\">distance.py</span></a><span style=\"color: #7f7f7f; text-decoration-color: #7f7f7f\">:</span><a href=\"file:///home/lilian/miniconda3/envs/py311-pyg-cuda118/lib/python3.11/site-packages/graphein/protein/edges/distance.py#466\" target=\"_blank\"><span style=\"color: #7f7f7f; text-decoration-color: #7f7f7f\">466</span></a>\n",
       "</pre>\n"
      ],
      "text/plain": [
       "\u001b[2;36m                   \u001b[0m\u001b[2;36m \u001b[0m\u001b[34mINFO    \u001b[0m Found: \u001b[1;36m38\u001b[0m aromatic-aromatic interactions                               \u001b]8;id=424425;file:///home/lilian/miniconda3/envs/py311-pyg-cuda118/lib/python3.11/site-packages/graphein/protein/edges/distance.py\u001b\\\u001b[2mdistance.py\u001b[0m\u001b]8;;\u001b\\\u001b[2m:\u001b[0m\u001b]8;id=224493;file:///home/lilian/miniconda3/envs/py311-pyg-cuda118/lib/python3.11/site-packages/graphein/protein/edges/distance.py#466\u001b\\\u001b[2m466\u001b[0m\u001b]8;;\u001b\\\n"
      ]
     },
     "metadata": {},
     "output_type": "display_data"
    },
    {
     "data": {
      "text/html": [
       "<pre style=\"white-space:pre;overflow-x:auto;line-height:normal;font-family:Menlo,'DejaVu Sans Mono',consolas,'Courier New',monospace\"><span style=\"color: #7fbfbf; text-decoration-color: #7fbfbf\">                    </span><span style=\"color: #000080; text-decoration-color: #000080\">INFO    </span> Found <span style=\"color: #008080; text-decoration-color: #008080; font-weight: bold\">453</span> hydrophobic interactions.                                   <a href=\"file:///home/lilian/miniconda3/envs/py311-pyg-cuda118/lib/python3.11/site-packages/graphein/protein/edges/distance.py\" target=\"_blank\"><span style=\"color: #7f7f7f; text-decoration-color: #7f7f7f\">distance.py</span></a><span style=\"color: #7f7f7f; text-decoration-color: #7f7f7f\">:</span><a href=\"file:///home/lilian/miniconda3/envs/py311-pyg-cuda118/lib/python3.11/site-packages/graphein/protein/edges/distance.py#1343\" target=\"_blank\"><span style=\"color: #7f7f7f; text-decoration-color: #7f7f7f\">1343</span></a>\n",
       "</pre>\n"
      ],
      "text/plain": [
       "\u001b[2;36m                   \u001b[0m\u001b[2;36m \u001b[0m\u001b[34mINFO    \u001b[0m Found \u001b[1;36m453\u001b[0m hydrophobic interactions.                                   \u001b]8;id=785754;file:///home/lilian/miniconda3/envs/py311-pyg-cuda118/lib/python3.11/site-packages/graphein/protein/edges/distance.py\u001b\\\u001b[2mdistance.py\u001b[0m\u001b]8;;\u001b\\\u001b[2m:\u001b[0m\u001b]8;id=544378;file:///home/lilian/miniconda3/envs/py311-pyg-cuda118/lib/python3.11/site-packages/graphein/protein/edges/distance.py#1343\u001b\\\u001b[2m1343\u001b[0m\u001b]8;;\u001b\\\n"
      ]
     },
     "metadata": {},
     "output_type": "display_data"
    },
    {
     "data": {
      "text/html": [
       "<pre style=\"white-space:pre;overflow-x:auto;line-height:normal;font-family:Menlo,'DejaVu Sans Mono',consolas,'Courier New',monospace\"><span style=\"color: #7fbfbf; text-decoration-color: #7fbfbf\">                    </span><span style=\"color: #000080; text-decoration-color: #000080\">INFO    </span> Found <span style=\"color: #008080; text-decoration-color: #008080; font-weight: bold\">1724</span> ionic interactions.                                        <a href=\"file:///home/lilian/miniconda3/envs/py311-pyg-cuda118/lib/python3.11/site-packages/graphein/protein/edges/distance.py\" target=\"_blank\"><span style=\"color: #7f7f7f; text-decoration-color: #7f7f7f\">distance.py</span></a><span style=\"color: #7f7f7f; text-decoration-color: #7f7f7f\">:</span><a href=\"file:///home/lilian/miniconda3/envs/py311-pyg-cuda118/lib/python3.11/site-packages/graphein/protein/edges/distance.py#1343\" target=\"_blank\"><span style=\"color: #7f7f7f; text-decoration-color: #7f7f7f\">1343</span></a>\n",
       "</pre>\n"
      ],
      "text/plain": [
       "\u001b[2;36m                   \u001b[0m\u001b[2;36m \u001b[0m\u001b[34mINFO    \u001b[0m Found \u001b[1;36m1724\u001b[0m ionic interactions.                                        \u001b]8;id=562952;file:///home/lilian/miniconda3/envs/py311-pyg-cuda118/lib/python3.11/site-packages/graphein/protein/edges/distance.py\u001b\\\u001b[2mdistance.py\u001b[0m\u001b]8;;\u001b\\\u001b[2m:\u001b[0m\u001b]8;id=146766;file:///home/lilian/miniconda3/envs/py311-pyg-cuda118/lib/python3.11/site-packages/graphein/protein/edges/distance.py#1343\u001b\\\u001b[2m1343\u001b[0m\u001b]8;;\u001b\\\n"
      ]
     },
     "metadata": {},
     "output_type": "display_data"
    },
    {
     "data": {
      "text/html": [
       "<pre style=\"white-space:pre;overflow-x:auto;line-height:normal;font-family:Menlo,'DejaVu Sans Mono',consolas,'Courier New',monospace\"><span style=\"color: #7fbfbf; text-decoration-color: #7fbfbf\">                    </span><span style=\"color: #000080; text-decoration-color: #000080\">INFO    </span> Found: <span style=\"color: #008080; text-decoration-color: #008080; font-weight: bold\">4126</span> distance edges                                             <a href=\"file:///home/lilian/miniconda3/envs/py311-pyg-cuda118/lib/python3.11/site-packages/graphein/protein/edges/distance.py\" target=\"_blank\"><span style=\"color: #7f7f7f; text-decoration-color: #7f7f7f\">distance.py</span></a><span style=\"color: #7f7f7f; text-decoration-color: #7f7f7f\">:</span><a href=\"file:///home/lilian/miniconda3/envs/py311-pyg-cuda118/lib/python3.11/site-packages/graphein/protein/edges/distance.py#963\" target=\"_blank\"><span style=\"color: #7f7f7f; text-decoration-color: #7f7f7f\">963</span></a>\n",
       "</pre>\n"
      ],
      "text/plain": [
       "\u001b[2;36m                   \u001b[0m\u001b[2;36m \u001b[0m\u001b[34mINFO    \u001b[0m Found: \u001b[1;36m4126\u001b[0m distance edges                                             \u001b]8;id=803845;file:///home/lilian/miniconda3/envs/py311-pyg-cuda118/lib/python3.11/site-packages/graphein/protein/edges/distance.py\u001b\\\u001b[2mdistance.py\u001b[0m\u001b]8;;\u001b\\\u001b[2m:\u001b[0m\u001b]8;id=103368;file:///home/lilian/miniconda3/envs/py311-pyg-cuda118/lib/python3.11/site-packages/graphein/protein/edges/distance.py#963\u001b\\\u001b[2m963\u001b[0m\u001b]8;;\u001b\\\n"
      ]
     },
     "metadata": {},
     "output_type": "display_data"
    },
    {
     "data": {
      "text/html": [
       "<pre style=\"white-space:pre;overflow-x:auto;line-height:normal;font-family:Menlo,'DejaVu Sans Mono',consolas,'Courier New',monospace\"><span style=\"color: #7fbfbf; text-decoration-color: #7fbfbf\">[10/09/23 14:06:26] </span><span style=\"color: #000080; text-decoration-color: #000080\">INFO    </span> Added <span style=\"color: #008080; text-decoration-color: #008080; font-weight: bold\">2752</span> distance edges. <span style=\"font-weight: bold\">(</span><span style=\"color: #008080; text-decoration-color: #008080; font-weight: bold\">1374</span>            removed by LIN<span style=\"font-weight: bold\">)</span>            <a href=\"file:///home/lilian/miniconda3/envs/py311-pyg-cuda118/lib/python3.11/site-packages/graphein/protein/edges/distance.py\" target=\"_blank\"><span style=\"color: #7f7f7f; text-decoration-color: #7f7f7f\">distance.py</span></a><span style=\"color: #7f7f7f; text-decoration-color: #7f7f7f\">:</span><a href=\"file:///home/lilian/miniconda3/envs/py311-pyg-cuda118/lib/python3.11/site-packages/graphein/protein/edges/distance.py#982\" target=\"_blank\"><span style=\"color: #7f7f7f; text-decoration-color: #7f7f7f\">982</span></a>\n",
       "</pre>\n"
      ],
      "text/plain": [
       "\u001b[2;36m[10/09/23 14:06:26]\u001b[0m\u001b[2;36m \u001b[0m\u001b[34mINFO    \u001b[0m Added \u001b[1;36m2752\u001b[0m distance edges. \u001b[1m(\u001b[0m\u001b[1;36m1374\u001b[0m            removed by LIN\u001b[1m)\u001b[0m            \u001b]8;id=402220;file:///home/lilian/miniconda3/envs/py311-pyg-cuda118/lib/python3.11/site-packages/graphein/protein/edges/distance.py\u001b\\\u001b[2mdistance.py\u001b[0m\u001b]8;;\u001b\\\u001b[2m:\u001b[0m\u001b]8;id=903369;file:///home/lilian/miniconda3/envs/py311-pyg-cuda118/lib/python3.11/site-packages/graphein/protein/edges/distance.py#982\u001b\\\u001b[2m982\u001b[0m\u001b]8;;\u001b\\\n"
      ]
     },
     "metadata": {},
     "output_type": "display_data"
    },
    {
     "name": "stderr",
     "output_type": "stream",
     "text": [
      "Using cache found in /home/lilian/.cache/torch/hub/facebookresearch_esm_main\n",
      "Using cache found in /home/lilian/.cache/torch/hub/facebookresearch_esm_main\n"
     ]
    }
   ],
   "source": [
    "#For local PDB files\n",
    "from graphein.protein.graphs import construct_graph\n",
    "from graphein.ml import ProteinGraphListDataset, GraphFormatConvertor\n",
    "import graphein.protein as gp\n",
    "graphs=[]\n",
    "failed_graphs=[]\n",
    "for i in pdb_list:\n",
    "    print(i)\n",
    "    try:\n",
    "        g=construct_graph(config=config, path=i, verbose=False)\n",
    "        graphs.append(g)\n",
    "    except:\n",
    "        print(\"error\")\n",
    "        failed_graphs.append(i)\n",
    "        \n",
    "        continue\n",
    "convertor = GraphFormatConvertor(src_format=\"nx\", dst_format=\"pyg\")\n",
    "graphs = [convertor(g) for g in graphs]\n",
    "\n",
    "# Create dataset\n",
    "ds = ProteinGraphListDataset(root=\"./\", data_list=graphs, name=\"TCR3d_abchains\")"
   ]
  },
  {
   "cell_type": "code",
   "execution_count": null,
   "metadata": {},
   "outputs": [
    {
     "name": "stdout",
     "output_type": "stream",
     "text": [
      "106\n",
      "394\n"
     ]
    }
   ],
   "source": [
    "print(len(failed_graphs))\n",
    "print(len(graphs))"
   ]
  },
  {
   "cell_type": "code",
   "execution_count": null,
   "metadata": {},
   "outputs": [
    {
     "name": "stderr",
     "output_type": "stream",
     "text": [
      "/home/lilian/miniconda3/envs/py311-pyg-cuda118/lib/python3.11/site-packages/numpy/lib/npyio.py:521: VisibleDeprecationWarning: Creating an ndarray from ragged nested sequences (which is a list-or-tuple of lists-or-tuples-or ndarrays with different lengths or shapes) is deprecated. If you meant to do this, you must specify 'dtype=object' when creating the ndarray.\n",
      "  arr = np.asanyarray(arr)\n"
     ]
    }
   ],
   "source": [
    "import numpy as np\n",
    "np.save('TCCR3d_data',ds, allow_pickle =True)"
   ]
  },
  {
   "cell_type": "code",
   "execution_count": 9,
   "metadata": {},
   "outputs": [],
   "source": [
    "ds= np.load('TCCR3d_data.npy', allow_pickle =True)"
   ]
  },
  {
   "cell_type": "code",
   "execution_count": 10,
   "metadata": {},
   "outputs": [],
   "source": [
    "from graphein.ml import ProteinGraphListDataset, GraphFormatConvertor\n",
    "ds_pyg = ProteinGraphListDataset(root=\"./\", data_list=ds, name=\"TCR3d_abchains\")"
   ]
  },
  {
   "cell_type": "code",
   "execution_count": null,
   "metadata": {},
   "outputs": [],
   "source": []
  }
 ],
 "metadata": {
  "kernelspec": {
   "display_name": "py311-pyg-cuda118",
   "language": "python",
   "name": "python3"
  },
  "language_info": {
   "codemirror_mode": {
    "name": "ipython",
    "version": 3
   },
   "file_extension": ".py",
   "mimetype": "text/x-python",
   "name": "python",
   "nbconvert_exporter": "python",
   "pygments_lexer": "ipython3",
   "version": "3.11.4"
  }
 },
 "nbformat": 4,
 "nbformat_minor": 2
}
