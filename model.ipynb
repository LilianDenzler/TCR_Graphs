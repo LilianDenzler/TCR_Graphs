{
 "cells": [
  {
   "cell_type": "markdown",
   "metadata": {},
   "source": [
    "Notebook for predicting Protein Stability based on Graph Centrality. \n",
    "Fine-tuned for the purpose of determining Tm of TCR constructs."
   ]
  },
  {
   "cell_type": "code",
   "execution_count": 4,
   "metadata": {},
   "outputs": [
    {
     "name": "stdout",
     "output_type": "stream",
     "text": [
      "Requirement already satisfied: biopandas in /home/lilian/miniconda3/envs/py311-pyg-cuda118/lib/python3.11/site-packages (0.4.1)\n",
      "Requirement already satisfied: numpy>=1.16.2 in /home/lilian/miniconda3/envs/py311-pyg-cuda118/lib/python3.11/site-packages (from biopandas) (1.24.1)\n",
      "Requirement already satisfied: pandas>=0.24.2 in /home/lilian/miniconda3/envs/py311-pyg-cuda118/lib/python3.11/site-packages (from biopandas) (2.1.1)\n",
      "Requirement already satisfied: setuptools in /home/lilian/miniconda3/envs/py311-pyg-cuda118/lib/python3.11/site-packages (from biopandas) (68.0.0)\n",
      "Requirement already satisfied: python-dateutil>=2.8.2 in /home/lilian/miniconda3/envs/py311-pyg-cuda118/lib/python3.11/site-packages (from pandas>=0.24.2->biopandas) (2.8.2)\n",
      "Requirement already satisfied: pytz>=2020.1 in /home/lilian/miniconda3/envs/py311-pyg-cuda118/lib/python3.11/site-packages (from pandas>=0.24.2->biopandas) (2023.3.post1)\n",
      "Requirement already satisfied: tzdata>=2022.1 in /home/lilian/miniconda3/envs/py311-pyg-cuda118/lib/python3.11/site-packages (from pandas>=0.24.2->biopandas) (2023.3)\n",
      "Requirement already satisfied: six>=1.5 in /home/lilian/miniconda3/envs/py311-pyg-cuda118/lib/python3.11/site-packages (from python-dateutil>=2.8.2->pandas>=0.24.2->biopandas) (1.16.0)\n"
     ]
    }
   ],
   "source": [
    "!pip install biopandas\n",
    "import pandas as pd\n",
    "from biopandas.pdb import PandasPdb\n",
    "import numpy as np\n",
    "import math\n",
    "\n",
    "import matplotlib.pyplot as plt\n",
    "import matplotlib.colors\n",
    "import os"
   ]
  },
  {
   "cell_type": "code",
   "execution_count": 12,
   "metadata": {},
   "outputs": [],
   "source": [
    "import pandas as pd\n",
    "Novozyme_data_dir=\"/home/lilian/TCR_Graphs/Novozyme_data\"\n",
    "\n",
    "df_train = pd.read_csv(os.path.join(Novozyme_data_dir,\"train.csv\"), index_col=\"seq_id\")\n",
    "df_train_updates = pd.read_csv(os.path.join(Novozyme_data_dir,\"train_updates_20220929.csv\"), index_col=\"seq_id\")\n",
    "\n",
    "all_features_nan = df_train_updates.isnull().all(\"columns\")\n",
    "\n",
    "drop_indices = df_train_updates[all_features_nan].index\n",
    "df_train = df_train.drop(index=drop_indices)\n",
    "\n",
    "swap_ph_tm_indices = df_train_updates[~all_features_nan].index\n",
    "df_train.loc[swap_ph_tm_indices, [\"pH\", \"tm\"]] = df_train_updates.loc[swap_ph_tm_indices, [\"pH\", \"tm\"]]\n",
    "\n",
    "\n",
    "\n",
    "df_test = pd.read_csv(os.path.join(Novozyme_data_dir,\"test.csv\"), index_col=\"seq_id\")"
   ]
  },
  {
   "cell_type": "code",
   "execution_count": 14,
   "metadata": {},
   "outputs": [
    {
     "name": "stdout",
     "output_type": "stream",
     "text": [
      "Requirement already satisfied: graphein in /home/lilian/miniconda3/envs/py311-pyg-cuda118/lib/python3.11/site-packages (1.7.3)\n",
      "Requirement already satisfied: pandas<2.0.0 in /home/lilian/miniconda3/envs/py311-pyg-cuda118/lib/python3.11/site-packages (from graphein) (1.5.3)\n",
      "Requirement already satisfied: biopandas>=0.5.0.dev0 in /home/lilian/miniconda3/envs/py311-pyg-cuda118/lib/python3.11/site-packages (from graphein) (0.5.1.dev0)\n",
      "Requirement already satisfied: biopython in /home/lilian/miniconda3/envs/py311-pyg-cuda118/lib/python3.11/site-packages (from graphein) (1.81)\n",
      "Requirement already satisfied: bioservices>=1.10.0 in /home/lilian/miniconda3/envs/py311-pyg-cuda118/lib/python3.11/site-packages (from graphein) (1.11.2)\n",
      "Requirement already satisfied: deepdiff in /home/lilian/miniconda3/envs/py311-pyg-cuda118/lib/python3.11/site-packages (from graphein) (6.5.0)\n",
      "Requirement already satisfied: loguru in /home/lilian/miniconda3/envs/py311-pyg-cuda118/lib/python3.11/site-packages (from graphein) (0.7.2)\n",
      "Requirement already satisfied: matplotlib>=3.4.3 in /home/lilian/miniconda3/envs/py311-pyg-cuda118/lib/python3.11/site-packages (from graphein) (3.7.2)\n",
      "Requirement already satisfied: multipledispatch in /home/lilian/miniconda3/envs/py311-pyg-cuda118/lib/python3.11/site-packages (from graphein) (1.0.0)\n",
      "Requirement already satisfied: networkx in /home/lilian/miniconda3/envs/py311-pyg-cuda118/lib/python3.11/site-packages (from graphein) (3.0)\n",
      "Requirement already satisfied: numpy<1.24.0 in /home/lilian/miniconda3/envs/py311-pyg-cuda118/lib/python3.11/site-packages (from graphein) (1.23.5)\n",
      "Requirement already satisfied: plotly in /home/lilian/miniconda3/envs/py311-pyg-cuda118/lib/python3.11/site-packages (from graphein) (5.17.0)\n",
      "Requirement already satisfied: pydantic in /home/lilian/miniconda3/envs/py311-pyg-cuda118/lib/python3.11/site-packages (from graphein) (1.10.13)\n",
      "Requirement already satisfied: rich in /home/lilian/miniconda3/envs/py311-pyg-cuda118/lib/python3.11/site-packages (from graphein) (13.6.0)\n",
      "Requirement already satisfied: rich-click in /home/lilian/miniconda3/envs/py311-pyg-cuda118/lib/python3.11/site-packages (from graphein) (1.6.1)\n",
      "Requirement already satisfied: seaborn in /home/lilian/miniconda3/envs/py311-pyg-cuda118/lib/python3.11/site-packages (from graphein) (0.13.0)\n",
      "Requirement already satisfied: pyyaml!=5.4.0,!=5.4.1,!=6.0.0 in /home/lilian/miniconda3/envs/py311-pyg-cuda118/lib/python3.11/site-packages (from graphein) (6.0.1)\n",
      "Requirement already satisfied: scikit-learn in /home/lilian/miniconda3/envs/py311-pyg-cuda118/lib/python3.11/site-packages (from graphein) (1.3.0)\n",
      "Requirement already satisfied: scipy>=1.8 in /home/lilian/miniconda3/envs/py311-pyg-cuda118/lib/python3.11/site-packages (from graphein) (1.11.2)\n",
      "Requirement already satisfied: tqdm in /home/lilian/miniconda3/envs/py311-pyg-cuda118/lib/python3.11/site-packages (from graphein) (4.66.1)\n",
      "Requirement already satisfied: typing-extensions==4.5.0 in /home/lilian/miniconda3/envs/py311-pyg-cuda118/lib/python3.11/site-packages (from graphein) (4.5.0)\n",
      "Requirement already satisfied: wget in /home/lilian/miniconda3/envs/py311-pyg-cuda118/lib/python3.11/site-packages (from graphein) (3.2)\n",
      "Requirement already satisfied: xarray in /home/lilian/miniconda3/envs/py311-pyg-cuda118/lib/python3.11/site-packages (from graphein) (2023.9.0)\n",
      "Requirement already satisfied: jaxtyping in /home/lilian/miniconda3/envs/py311-pyg-cuda118/lib/python3.11/site-packages (from graphein) (0.2.22)\n",
      "Requirement already satisfied: mmtf-python==1.1.3 in /home/lilian/miniconda3/envs/py311-pyg-cuda118/lib/python3.11/site-packages (from biopandas>=0.5.0.dev0->graphein) (1.1.3)\n",
      "Requirement already satisfied: looseversion==1.1.2 in /home/lilian/miniconda3/envs/py311-pyg-cuda118/lib/python3.11/site-packages (from biopandas>=0.5.0.dev0->graphein) (1.1.2)\n",
      "Requirement already satisfied: setuptools in /home/lilian/miniconda3/envs/py311-pyg-cuda118/lib/python3.11/site-packages (from biopandas>=0.5.0.dev0->graphein) (68.0.0)\n",
      "Requirement already satisfied: msgpack>=1.0.0 in /home/lilian/miniconda3/envs/py311-pyg-cuda118/lib/python3.11/site-packages (from mmtf-python==1.1.3->biopandas>=0.5.0.dev0->graphein) (1.0.7)\n",
      "Requirement already satisfied: appdirs in /home/lilian/miniconda3/envs/py311-pyg-cuda118/lib/python3.11/site-packages (from bioservices>=1.10.0->graphein) (1.4.4)\n",
      "Requirement already satisfied: beautifulsoup4 in /home/lilian/miniconda3/envs/py311-pyg-cuda118/lib/python3.11/site-packages (from bioservices>=1.10.0->graphein) (4.12.2)\n",
      "Requirement already satisfied: colorlog in /home/lilian/miniconda3/envs/py311-pyg-cuda118/lib/python3.11/site-packages (from bioservices>=1.10.0->graphein) (6.7.0)\n",
      "Requirement already satisfied: easydev>=0.12.0 in /home/lilian/miniconda3/envs/py311-pyg-cuda118/lib/python3.11/site-packages (from bioservices>=1.10.0->graphein) (0.12.1)\n",
      "Requirement already satisfied: grequests in /home/lilian/miniconda3/envs/py311-pyg-cuda118/lib/python3.11/site-packages (from bioservices>=1.10.0->graphein) (0.7.0)\n",
      "Requirement already satisfied: requests in /home/lilian/miniconda3/envs/py311-pyg-cuda118/lib/python3.11/site-packages (from bioservices>=1.10.0->graphein) (2.28.1)\n",
      "Requirement already satisfied: requests-cache in /home/lilian/miniconda3/envs/py311-pyg-cuda118/lib/python3.11/site-packages (from bioservices>=1.10.0->graphein) (1.1.0)\n",
      "Requirement already satisfied: suds-community>=0.7 in /home/lilian/miniconda3/envs/py311-pyg-cuda118/lib/python3.11/site-packages (from bioservices>=1.10.0->graphein) (1.1.2)\n",
      "Requirement already satisfied: lxml in /home/lilian/miniconda3/envs/py311-pyg-cuda118/lib/python3.11/site-packages (from bioservices>=1.10.0->graphein) (4.9.3)\n",
      "Requirement already satisfied: wrapt in /home/lilian/miniconda3/envs/py311-pyg-cuda118/lib/python3.11/site-packages (from bioservices>=1.10.0->graphein) (1.15.0)\n",
      "Requirement already satisfied: xmltodict in /home/lilian/miniconda3/envs/py311-pyg-cuda118/lib/python3.11/site-packages (from bioservices>=1.10.0->graphein) (0.13.0)\n",
      "Requirement already satisfied: contourpy>=1.0.1 in /home/lilian/miniconda3/envs/py311-pyg-cuda118/lib/python3.11/site-packages (from matplotlib>=3.4.3->graphein) (1.0.5)\n",
      "Requirement already satisfied: cycler>=0.10 in /home/lilian/miniconda3/envs/py311-pyg-cuda118/lib/python3.11/site-packages (from matplotlib>=3.4.3->graphein) (0.11.0)\n",
      "Requirement already satisfied: fonttools>=4.22.0 in /home/lilian/miniconda3/envs/py311-pyg-cuda118/lib/python3.11/site-packages (from matplotlib>=3.4.3->graphein) (4.25.0)\n",
      "Requirement already satisfied: kiwisolver>=1.0.1 in /home/lilian/miniconda3/envs/py311-pyg-cuda118/lib/python3.11/site-packages (from matplotlib>=3.4.3->graphein) (1.4.4)\n",
      "Requirement already satisfied: packaging>=20.0 in /home/lilian/miniconda3/envs/py311-pyg-cuda118/lib/python3.11/site-packages (from matplotlib>=3.4.3->graphein) (23.1)\n",
      "Requirement already satisfied: pillow>=6.2.0 in /home/lilian/miniconda3/envs/py311-pyg-cuda118/lib/python3.11/site-packages (from matplotlib>=3.4.3->graphein) (9.4.0)\n",
      "Requirement already satisfied: pyparsing<3.1,>=2.3.1 in /home/lilian/miniconda3/envs/py311-pyg-cuda118/lib/python3.11/site-packages (from matplotlib>=3.4.3->graphein) (3.0.9)\n",
      "Requirement already satisfied: python-dateutil>=2.7 in /home/lilian/miniconda3/envs/py311-pyg-cuda118/lib/python3.11/site-packages (from matplotlib>=3.4.3->graphein) (2.8.2)\n",
      "Requirement already satisfied: pytz>=2020.1 in /home/lilian/miniconda3/envs/py311-pyg-cuda118/lib/python3.11/site-packages (from pandas<2.0.0->graphein) (2023.3.post1)\n",
      "Requirement already satisfied: ordered-set<4.2.0,>=4.0.2 in /home/lilian/miniconda3/envs/py311-pyg-cuda118/lib/python3.11/site-packages (from deepdiff->graphein) (4.1.0)\n",
      "Requirement already satisfied: typeguard>=2.13.3 in /home/lilian/miniconda3/envs/py311-pyg-cuda118/lib/python3.11/site-packages (from jaxtyping->graphein) (4.0.0)\n",
      "Requirement already satisfied: tenacity>=6.2.0 in /home/lilian/miniconda3/envs/py311-pyg-cuda118/lib/python3.11/site-packages (from plotly->graphein) (8.2.3)\n",
      "Requirement already satisfied: markdown-it-py>=2.2.0 in /home/lilian/miniconda3/envs/py311-pyg-cuda118/lib/python3.11/site-packages (from rich->graphein) (3.0.0)\n",
      "Requirement already satisfied: pygments<3.0.0,>=2.13.0 in /home/lilian/miniconda3/envs/py311-pyg-cuda118/lib/python3.11/site-packages (from rich->graphein) (2.16.1)\n",
      "Requirement already satisfied: click>=7 in /home/lilian/miniconda3/envs/py311-pyg-cuda118/lib/python3.11/site-packages (from rich-click->graphein) (8.1.7)\n",
      "Requirement already satisfied: joblib>=1.1.1 in /home/lilian/miniconda3/envs/py311-pyg-cuda118/lib/python3.11/site-packages (from scikit-learn->graphein) (1.3.2)\n",
      "Requirement already satisfied: threadpoolctl>=2.0.0 in /home/lilian/miniconda3/envs/py311-pyg-cuda118/lib/python3.11/site-packages (from scikit-learn->graphein) (3.2.0)\n",
      "Requirement already satisfied: colorama in /home/lilian/miniconda3/envs/py311-pyg-cuda118/lib/python3.11/site-packages (from easydev>=0.12.0->bioservices>=1.10.0->graphein) (0.4.6)\n",
      "Requirement already satisfied: pexpect in /home/lilian/miniconda3/envs/py311-pyg-cuda118/lib/python3.11/site-packages (from easydev>=0.12.0->bioservices>=1.10.0->graphein) (4.8.0)\n",
      "Requirement already satisfied: mdurl~=0.1 in /home/lilian/miniconda3/envs/py311-pyg-cuda118/lib/python3.11/site-packages (from markdown-it-py>=2.2.0->rich->graphein) (0.1.2)\n",
      "Requirement already satisfied: six>=1.5 in /home/lilian/miniconda3/envs/py311-pyg-cuda118/lib/python3.11/site-packages (from python-dateutil>=2.7->matplotlib>=3.4.3->graphein) (1.16.0)\n",
      "Requirement already satisfied: soupsieve>1.2 in /home/lilian/miniconda3/envs/py311-pyg-cuda118/lib/python3.11/site-packages (from beautifulsoup4->bioservices>=1.10.0->graphein) (2.5)\n",
      "Requirement already satisfied: gevent in /home/lilian/miniconda3/envs/py311-pyg-cuda118/lib/python3.11/site-packages (from grequests->bioservices>=1.10.0->graphein) (23.9.1)\n",
      "Requirement already satisfied: charset-normalizer<3,>=2 in /home/lilian/miniconda3/envs/py311-pyg-cuda118/lib/python3.11/site-packages (from requests->bioservices>=1.10.0->graphein) (2.1.1)\n",
      "Requirement already satisfied: idna<4,>=2.5 in /home/lilian/miniconda3/envs/py311-pyg-cuda118/lib/python3.11/site-packages (from requests->bioservices>=1.10.0->graphein) (3.4)\n",
      "Requirement already satisfied: urllib3<1.27,>=1.21.1 in /home/lilian/miniconda3/envs/py311-pyg-cuda118/lib/python3.11/site-packages (from requests->bioservices>=1.10.0->graphein) (1.26.13)\n",
      "Requirement already satisfied: certifi>=2017.4.17 in /home/lilian/miniconda3/envs/py311-pyg-cuda118/lib/python3.11/site-packages (from requests->bioservices>=1.10.0->graphein) (2022.12.7)\n",
      "Requirement already satisfied: attrs>=21.2 in /home/lilian/miniconda3/envs/py311-pyg-cuda118/lib/python3.11/site-packages (from requests-cache->bioservices>=1.10.0->graphein) (23.1.0)\n",
      "Requirement already satisfied: cattrs>=22.2 in /home/lilian/miniconda3/envs/py311-pyg-cuda118/lib/python3.11/site-packages (from requests-cache->bioservices>=1.10.0->graphein) (23.1.2)\n",
      "Requirement already satisfied: platformdirs>=2.5 in /home/lilian/miniconda3/envs/py311-pyg-cuda118/lib/python3.11/site-packages (from requests-cache->bioservices>=1.10.0->graphein) (3.10.0)\n",
      "Requirement already satisfied: url-normalize>=1.4 in /home/lilian/miniconda3/envs/py311-pyg-cuda118/lib/python3.11/site-packages (from requests-cache->bioservices>=1.10.0->graphein) (1.4.3)\n",
      "Requirement already satisfied: zope.event in /home/lilian/miniconda3/envs/py311-pyg-cuda118/lib/python3.11/site-packages (from gevent->grequests->bioservices>=1.10.0->graphein) (5.0)\n",
      "Requirement already satisfied: zope.interface in /home/lilian/miniconda3/envs/py311-pyg-cuda118/lib/python3.11/site-packages (from gevent->grequests->bioservices>=1.10.0->graphein) (6.0)\n",
      "Requirement already satisfied: greenlet>=3.0rc3 in /home/lilian/miniconda3/envs/py311-pyg-cuda118/lib/python3.11/site-packages (from gevent->grequests->bioservices>=1.10.0->graphein) (3.0.0)\n",
      "Requirement already satisfied: ptyprocess>=0.5 in /home/lilian/miniconda3/envs/py311-pyg-cuda118/lib/python3.11/site-packages (from pexpect->easydev>=0.12.0->bioservices>=1.10.0->graphein) (0.7.0)\n"
     ]
    }
   ],
   "source": [
    "# Install graphein if necessary\n",
    "!pip install graphein \n"
   ]
  },
  {
   "cell_type": "code",
   "execution_count": 2,
   "metadata": {},
   "outputs": [
    {
     "ename": "AttributeError",
     "evalue": "'ProteinGraphDataset' object has no attribute 'structures'",
     "output_type": "error",
     "traceback": [
      "\u001b[0;31m---------------------------------------------------------------------------\u001b[0m",
      "\u001b[0;31mAttributeError\u001b[0m                            Traceback (most recent call last)",
      "\u001b[1;32m/home/lilian/TCR_Graphs/model.ipynb Cell 5\u001b[0m line \u001b[0;36m8\n\u001b[1;32m      <a href='vscode-notebook-cell://ssh-remote%2B7b22686f73744e616d65223a226c696c69616e457665227d/home/lilian/TCR_Graphs/model.ipynb#W5sdnNjb2RlLXJlbW90ZQ%3D%3D?line=4'>5</a>\u001b[0m g_lab_map \u001b[39m=\u001b[39m {\u001b[39m\"\u001b[39m\u001b[39mwildtype\u001b[39m\u001b[39m\"\u001b[39m: \u001b[39m1\u001b[39m}\n\u001b[1;32m      <a href='vscode-notebook-cell://ssh-remote%2B7b22686f73744e616d65223a226c696c69616e457665227d/home/lilian/TCR_Graphs/model.ipynb#W5sdnNjb2RlLXJlbW90ZQ%3D%3D?line=6'>7</a>\u001b[0m \u001b[39m# Create the dataset\u001b[39;00m\n\u001b[0;32m----> <a href='vscode-notebook-cell://ssh-remote%2B7b22686f73744e616d65223a226c696c69616e457665227d/home/lilian/TCR_Graphs/model.ipynb#W5sdnNjb2RlLXJlbW90ZQ%3D%3D?line=7'>8</a>\u001b[0m ds \u001b[39m=\u001b[39m ProteinGraphDataset(\n\u001b[1;32m      <a href='vscode-notebook-cell://ssh-remote%2B7b22686f73744e616d65223a226c696c69616e457665227d/home/lilian/TCR_Graphs/model.ipynb#W5sdnNjb2RlLXJlbW90ZQ%3D%3D?line=8'>9</a>\u001b[0m     root \u001b[39m=\u001b[39;49m \u001b[39m\"\u001b[39;49m\u001b[39m/home/lilian/TCR_Graphs/Novozyme_data\u001b[39;49m\u001b[39m\"\u001b[39;49m,\n\u001b[1;32m     <a href='vscode-notebook-cell://ssh-remote%2B7b22686f73744e616d65223a226c696c69616e457665227d/home/lilian/TCR_Graphs/model.ipynb#W5sdnNjb2RlLXJlbW90ZQ%3D%3D?line=9'>10</a>\u001b[0m     graphein_config\u001b[39m=\u001b[39;49mgp\u001b[39m.\u001b[39;49mProteinGraphConfig()\n\u001b[1;32m     <a href='vscode-notebook-cell://ssh-remote%2B7b22686f73744e616d65223a226c696c69616e457665227d/home/lilian/TCR_Graphs/model.ipynb#W5sdnNjb2RlLXJlbW90ZQ%3D%3D?line=10'>11</a>\u001b[0m )\n",
      "File \u001b[0;32m~/miniconda3/envs/py311-pyg-cuda118/lib/python3.11/site-packages/graphein/ml/datasets/torch_geometric_dataset.py:445\u001b[0m, in \u001b[0;36mProteinGraphDataset.__init__\u001b[0;34m(self, root, paths, pdb_codes, uniprot_ids, graph_labels, node_labels, chain_selections, graphein_config, graph_format_convertor, graph_transformation_funcs, pdb_transform, transform, pre_transform, pre_filter, num_cores, af_version)\u001b[0m\n\u001b[1;32m    441\u001b[0m         \u001b[39mself\u001b[39m\u001b[39m.\u001b[39mpath, _ \u001b[39m=\u001b[39m os\u001b[39m.\u001b[39mpath\u001b[39m.\u001b[39msplit(\u001b[39mself\u001b[39m\u001b[39m.\u001b[39mpaths[\u001b[39m0\u001b[39m])\n\u001b[1;32m    443\u001b[0m \u001b[39m# Labels & Chains\u001b[39;00m\n\u001b[0;32m--> 445\u001b[0m \u001b[39mself\u001b[39m\u001b[39m.\u001b[39mexamples: Dict[\u001b[39mint\u001b[39m, \u001b[39mstr\u001b[39m] \u001b[39m=\u001b[39m \u001b[39mdict\u001b[39m(\u001b[39menumerate\u001b[39m(\u001b[39mself\u001b[39;49m\u001b[39m.\u001b[39;49mstructures))\n\u001b[1;32m    447\u001b[0m \u001b[39mif\u001b[39;00m graph_labels \u001b[39mis\u001b[39;00m \u001b[39mnot\u001b[39;00m \u001b[39mNone\u001b[39;00m:\n\u001b[1;32m    448\u001b[0m     \u001b[39mself\u001b[39m\u001b[39m.\u001b[39mgraph_label_map \u001b[39m=\u001b[39m \u001b[39mdict\u001b[39m(\u001b[39menumerate\u001b[39m(graph_labels))\n",
      "\u001b[0;31mAttributeError\u001b[0m: 'ProteinGraphDataset' object has no attribute 'structures'"
     ]
    }
   ],
   "source": [
    "import torch\n",
    "from graphein.ml import ProteinGraphDataset\n",
    "import graphein.protein as gp\n",
    "\n",
    "g_lab_map = {\"wildtype\": 1}\n",
    "\n",
    "# Create the dataset\n",
    "ds = ProteinGraphDataset(\n",
    "    root = \"/home/lilian/TCR_Graphs/Novozyme_data\",\n",
    "    graphein_config=gp.ProteinGraphConfig()\n",
    ")"
   ]
  },
  {
   "cell_type": "code",
   "execution_count": null,
   "metadata": {},
   "outputs": [],
   "source": [
    "!pip install biopandas -q\n",
    "!pip install dgl dglgo -f https://data.dgl.ai/wheels/repo.html -q\n",
    "import numpy as np\n",
    "from biopandas.pdb import PandasPdb\n",
    "import torch\n",
    "import dgl\n",
    "def get_distance_matrix(coords):\n",
    "    diff_tensor = np.expand_dims(coords, axis=1) - np.expand_dims(coords, axis=0)\n",
    "    distance_matrix = np.sqrt(np.sum(np.power(diff_tensor, 2), axis=-1))\n",
    "    return distance_matrix\n",
    "\n",
    "def pdb_to_graph(pdb_path, distance_threshold=6.0, contain_b_factor=True):\n",
    "    atom_df = PandasPdb().read_pdb(pdb_path)\n",
    "    atom_df = atom_df.df['ATOM']\n",
    "    residue_df = atom_df.groupby('residue_number', as_index=False)[['x_coord', 'y_coord', 'z_coord', 'b_factor']].mean().sort_values('residue_number')\n",
    "    coords = residue_df[['x_coord', 'y_coord', 'z_coord']].values\n",
    "    distance_matrix = get_distance_matrix(coords)\n",
    "    adj = distance_matrix < distance_threshold\n",
    "    u, v = np.nonzero(adj)\n",
    "    u, v = torch.from_numpy(u), torch.from_numpy(v)\n",
    "    graph = dgl.graph((u, v), num_nodes=len(coords))\n",
    "    if contain_b_factor:\n",
    "        b_factor = torch.from_numpy(residue_df['b_factor'].values)\n",
    "        graph.ndata['b_factor'] = b_factor\n",
    "    return graph\n",
    "\n",
    "\n",
    "graph = pdb_to_graph('.pdb')\n",
    "\n"
   ]
  }
 ],
 "metadata": {
  "kernelspec": {
   "display_name": "py311-pyg-cuda118",
   "language": "python",
   "name": "python3"
  },
  "language_info": {
   "codemirror_mode": {
    "name": "ipython",
    "version": 3
   },
   "file_extension": ".py",
   "mimetype": "text/x-python",
   "name": "python",
   "nbconvert_exporter": "python",
   "pygments_lexer": "ipython3",
   "version": "3.11.4"
  },
  "orig_nbformat": 4
 },
 "nbformat": 4,
 "nbformat_minor": 2
}
